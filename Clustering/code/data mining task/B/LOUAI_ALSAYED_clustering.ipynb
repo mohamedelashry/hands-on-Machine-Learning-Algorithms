{
 "cells": [
  {
   "cell_type": "code",
   "execution_count": 52,
   "metadata": {
    "id": "zCm8EUGs6UiD"
   },
   "outputs": [],
   "source": [
    "import numpy as np\n",
    "import pandas as pd\n",
    "import matplotlib.pyplot as plt \n",
    "import seaborn as sns \n",
    "from kneed import KneeLocator\n",
    "from sklearn.metrics import silhouette_score\n",
    "from sklearn.cluster import AgglomerativeClustering , DBSCAN"
   ]
  },
  {
   "cell_type": "markdown",
   "metadata": {
    "id": "U3-hoBN0-WVG"
   },
   "source": [
    "## Task 1:"
   ]
  },
  {
   "cell_type": "code",
   "execution_count": 53,
   "metadata": {
    "id": "QcmhqaIM6iVs"
   },
   "outputs": [],
   "source": [
    "from sklearn.cluster import KMeans\n",
    "import warnings\n",
    "warnings.filterwarnings(\"ignore\")"
   ]
  },
  {
   "cell_type": "markdown",
   "metadata": {},
   "source": [
    "# Downloading the Dataset "
   ]
  },
  {
   "cell_type": "code",
   "execution_count": 54,
   "metadata": {
    "colab": {
     "base_uri": "https://localhost:8080/"
    },
    "id": "XWSwSvwL6nxy",
    "outputId": "ed965664-9a64-40e5-8e51-b4a258279062"
   },
   "outputs": [],
   "source": [
    "df =pd.read_csv('sponge.data')"
   ]
  },
  {
   "cell_type": "markdown",
   "metadata": {},
   "source": [
    "# Data Exploration"
   ]
  },
  {
   "cell_type": "code",
   "execution_count": 55,
   "metadata": {},
   "outputs": [
    {
     "name": "stdout",
     "output_type": "stream",
     "text": [
      "Our data-set have 75 instances , and 46 attributes.\n"
     ]
    }
   ],
   "source": [
    "print(\"Our data-set have {} instances , and {} attributes.\" .format(df.shape[0], df.shape[1]))"
   ]
  },
  {
   "cell_type": "code",
   "execution_count": 56,
   "metadata": {
    "colab": {
     "base_uri": "https://localhost:8080/",
     "height": 217
    },
    "id": "EDhS_xce8MF3",
    "outputId": "9ee21c35-6b3f-4f5b-a545-234e6d73162b"
   },
   "outputs": [
    {
     "data": {
      "text/html": [
       "<div>\n",
       "<style scoped>\n",
       "    .dataframe tbody tr th:only-of-type {\n",
       "        vertical-align: middle;\n",
       "    }\n",
       "\n",
       "    .dataframe tbody tr th {\n",
       "        vertical-align: top;\n",
       "    }\n",
       "\n",
       "    .dataframe thead th {\n",
       "        text-align: right;\n",
       "    }\n",
       "</style>\n",
       "<table border=\"1\" class=\"dataframe\">\n",
       "  <thead>\n",
       "    <tr style=\"text-align: right;\">\n",
       "      <th></th>\n",
       "      <th>3</th>\n",
       "      <th>3.1</th>\n",
       "      <th>0</th>\n",
       "    </tr>\n",
       "  </thead>\n",
       "  <tbody>\n",
       "    <tr>\n",
       "      <th>count</th>\n",
       "      <td>75.000000</td>\n",
       "      <td>75.000000</td>\n",
       "      <td>75.000000</td>\n",
       "    </tr>\n",
       "    <tr>\n",
       "      <th>mean</th>\n",
       "      <td>1.560000</td>\n",
       "      <td>2.226667</td>\n",
       "      <td>1.000000</td>\n",
       "    </tr>\n",
       "    <tr>\n",
       "      <th>std</th>\n",
       "      <td>1.535525</td>\n",
       "      <td>0.894024</td>\n",
       "      <td>1.230249</td>\n",
       "    </tr>\n",
       "    <tr>\n",
       "      <th>min</th>\n",
       "      <td>0.000000</td>\n",
       "      <td>0.000000</td>\n",
       "      <td>0.000000</td>\n",
       "    </tr>\n",
       "    <tr>\n",
       "      <th>25%</th>\n",
       "      <td>0.000000</td>\n",
       "      <td>1.500000</td>\n",
       "      <td>0.000000</td>\n",
       "    </tr>\n",
       "    <tr>\n",
       "      <th>50%</th>\n",
       "      <td>2.000000</td>\n",
       "      <td>3.000000</td>\n",
       "      <td>0.000000</td>\n",
       "    </tr>\n",
       "    <tr>\n",
       "      <th>75%</th>\n",
       "      <td>3.000000</td>\n",
       "      <td>3.000000</td>\n",
       "      <td>2.000000</td>\n",
       "    </tr>\n",
       "    <tr>\n",
       "      <th>max</th>\n",
       "      <td>4.000000</td>\n",
       "      <td>3.000000</td>\n",
       "      <td>4.000000</td>\n",
       "    </tr>\n",
       "  </tbody>\n",
       "</table>\n",
       "</div>"
      ],
      "text/plain": [
       "               3        3.1          0\n",
       "count  75.000000  75.000000  75.000000\n",
       "mean    1.560000   2.226667   1.000000\n",
       "std     1.535525   0.894024   1.230249\n",
       "min     0.000000   0.000000   0.000000\n",
       "25%     0.000000   1.500000   0.000000\n",
       "50%     2.000000   3.000000   0.000000\n",
       "75%     3.000000   3.000000   2.000000\n",
       "max     4.000000   3.000000   4.000000"
      ]
     },
     "execution_count": 56,
     "metadata": {},
     "output_type": "execute_result"
    }
   ],
   "source": [
    "df.describe()"
   ]
  },
  {
   "cell_type": "code",
   "execution_count": 57,
   "metadata": {},
   "outputs": [
    {
     "data": {
      "text/html": [
       "<div>\n",
       "<style scoped>\n",
       "    .dataframe tbody tr th:only-of-type {\n",
       "        vertical-align: middle;\n",
       "    }\n",
       "\n",
       "    .dataframe tbody tr th {\n",
       "        vertical-align: top;\n",
       "    }\n",
       "\n",
       "    .dataframe thead th {\n",
       "        text-align: right;\n",
       "    }\n",
       "</style>\n",
       "<table border=\"1\" class=\"dataframe\">\n",
       "  <thead>\n",
       "    <tr style=\"text-align: right;\">\n",
       "      <th></th>\n",
       "      <th>AAPTOS_AAPTOS</th>\n",
       "      <th>1_CAPA</th>\n",
       "      <th>SIN_CAPA_INTERNA_DEL_CORTEX</th>\n",
       "      <th>SI</th>\n",
       "      <th>NO</th>\n",
       "      <th>NO.1</th>\n",
       "      <th>NO.2</th>\n",
       "      <th>3</th>\n",
       "      <th>NO.3</th>\n",
       "      <th>SIN_TILOSTILOS_ADICIONALES</th>\n",
       "      <th>...</th>\n",
       "      <th>MASIVO_IRREGULAR</th>\n",
       "      <th>0</th>\n",
       "      <th>NO.12</th>\n",
       "      <th>OTROS</th>\n",
       "      <th>RUGOSA</th>\n",
       "      <th>RADIAL</th>\n",
       "      <th>NO.13</th>\n",
       "      <th>NO.14</th>\n",
       "      <th>NO.15</th>\n",
       "      <th>DURO</th>\n",
       "    </tr>\n",
       "  </thead>\n",
       "  <tbody>\n",
       "    <tr>\n",
       "      <th>0</th>\n",
       "      <td>ALECTONA_MILLARI</td>\n",
       "      <td>SIN_CORTEX</td>\n",
       "      <td>SIN_CAPA_INTERNA_DEL_CORTEX</td>\n",
       "      <td>NO</td>\n",
       "      <td>SIN_CORTEX</td>\n",
       "      <td>SIN_CORTEX</td>\n",
       "      <td>SIN_CORTEX</td>\n",
       "      <td>0</td>\n",
       "      <td>NO</td>\n",
       "      <td>SIN_TILOSTILOS_ADICIONALES</td>\n",
       "      <td>...</td>\n",
       "      <td>INCRUSTANTE</td>\n",
       "      <td>0</td>\n",
       "      <td>NO</td>\n",
       "      <td>?</td>\n",
       "      <td>LISA</td>\n",
       "      <td>CONFUSA</td>\n",
       "      <td>NO</td>\n",
       "      <td>SI</td>\n",
       "      <td>NO</td>\n",
       "      <td>DURO</td>\n",
       "    </tr>\n",
       "    <tr>\n",
       "      <th>1</th>\n",
       "      <td>CLIONA_CARTERI</td>\n",
       "      <td>SIN_CORTEX</td>\n",
       "      <td>SIN_CAPA_INTERNA_DEL_CORTEX</td>\n",
       "      <td>NO</td>\n",
       "      <td>SIN_CORTEX</td>\n",
       "      <td>SIN_CORTEX</td>\n",
       "      <td>SIN_CORTEX</td>\n",
       "      <td>0</td>\n",
       "      <td>NO</td>\n",
       "      <td>SIN_TILOSTILOS_ADICIONALES</td>\n",
       "      <td>...</td>\n",
       "      <td>INCRUSTANTE</td>\n",
       "      <td>1</td>\n",
       "      <td>SI</td>\n",
       "      <td>OTROS</td>\n",
       "      <td>LISA</td>\n",
       "      <td>CONFUSA</td>\n",
       "      <td>NO</td>\n",
       "      <td>SI</td>\n",
       "      <td>NO</td>\n",
       "      <td>DURO</td>\n",
       "    </tr>\n",
       "    <tr>\n",
       "      <th>2</th>\n",
       "      <td>CLIONA_CELATA</td>\n",
       "      <td>SIN_CORTEX</td>\n",
       "      <td>SIN_CAPA_INTERNA_DEL_CORTEX</td>\n",
       "      <td>NO</td>\n",
       "      <td>SIN_CORTEX</td>\n",
       "      <td>SIN_CORTEX</td>\n",
       "      <td>SIN_CORTEX</td>\n",
       "      <td>0</td>\n",
       "      <td>NO</td>\n",
       "      <td>SIN_TILOSTILOS_ADICIONALES</td>\n",
       "      <td>...</td>\n",
       "      <td>MASIVO_IRREGULAR</td>\n",
       "      <td>3</td>\n",
       "      <td>SI</td>\n",
       "      <td>OTROS</td>\n",
       "      <td>LISA</td>\n",
       "      <td>CONFUSA</td>\n",
       "      <td>NO</td>\n",
       "      <td>SI</td>\n",
       "      <td>NO</td>\n",
       "      <td>DURO</td>\n",
       "    </tr>\n",
       "    <tr>\n",
       "      <th>3</th>\n",
       "      <td>CLIONA_LABYRINTHICA</td>\n",
       "      <td>SIN_CORTEX</td>\n",
       "      <td>SIN_CAPA_INTERNA_DEL_CORTEX</td>\n",
       "      <td>NO</td>\n",
       "      <td>SIN_CORTEX</td>\n",
       "      <td>SIN_CORTEX</td>\n",
       "      <td>SIN_CORTEX</td>\n",
       "      <td>0</td>\n",
       "      <td>NO</td>\n",
       "      <td>SIN_TILOSTILOS_ADICIONALES</td>\n",
       "      <td>...</td>\n",
       "      <td>INCRUSTANTE</td>\n",
       "      <td>0</td>\n",
       "      <td>NO</td>\n",
       "      <td>OTROS</td>\n",
       "      <td>LISA</td>\n",
       "      <td>CONFUSA</td>\n",
       "      <td>NO</td>\n",
       "      <td>SI</td>\n",
       "      <td>NO</td>\n",
       "      <td>DURO</td>\n",
       "    </tr>\n",
       "    <tr>\n",
       "      <th>4</th>\n",
       "      <td>CLIONA_SCHMIDTI</td>\n",
       "      <td>SIN_CORTEX</td>\n",
       "      <td>SIN_CAPA_INTERNA_DEL_CORTEX</td>\n",
       "      <td>NO</td>\n",
       "      <td>SIN_CORTEX</td>\n",
       "      <td>SIN_CORTEX</td>\n",
       "      <td>SIN_CORTEX</td>\n",
       "      <td>0</td>\n",
       "      <td>NO</td>\n",
       "      <td>SIN_TILOSTILOS_ADICIONALES</td>\n",
       "      <td>...</td>\n",
       "      <td>INCRUSTANTE</td>\n",
       "      <td>1</td>\n",
       "      <td>SI</td>\n",
       "      <td>OTROS</td>\n",
       "      <td>LISA</td>\n",
       "      <td>CONFUSA</td>\n",
       "      <td>NO</td>\n",
       "      <td>SI</td>\n",
       "      <td>NO</td>\n",
       "      <td>DURO</td>\n",
       "    </tr>\n",
       "  </tbody>\n",
       "</table>\n",
       "<p>5 rows × 46 columns</p>\n",
       "</div>"
      ],
      "text/plain": [
       "         AAPTOS_AAPTOS      1_CAPA  SIN_CAPA_INTERNA_DEL_CORTEX  SI  \\\n",
       "0     ALECTONA_MILLARI  SIN_CORTEX  SIN_CAPA_INTERNA_DEL_CORTEX  NO   \n",
       "1       CLIONA_CARTERI  SIN_CORTEX  SIN_CAPA_INTERNA_DEL_CORTEX  NO   \n",
       "2        CLIONA_CELATA  SIN_CORTEX  SIN_CAPA_INTERNA_DEL_CORTEX  NO   \n",
       "3  CLIONA_LABYRINTHICA  SIN_CORTEX  SIN_CAPA_INTERNA_DEL_CORTEX  NO   \n",
       "4      CLIONA_SCHMIDTI  SIN_CORTEX  SIN_CAPA_INTERNA_DEL_CORTEX  NO   \n",
       "\n",
       "           NO        NO.1        NO.2  3 NO.3  SIN_TILOSTILOS_ADICIONALES  \\\n",
       "0  SIN_CORTEX  SIN_CORTEX  SIN_CORTEX  0   NO  SIN_TILOSTILOS_ADICIONALES   \n",
       "1  SIN_CORTEX  SIN_CORTEX  SIN_CORTEX  0   NO  SIN_TILOSTILOS_ADICIONALES   \n",
       "2  SIN_CORTEX  SIN_CORTEX  SIN_CORTEX  0   NO  SIN_TILOSTILOS_ADICIONALES   \n",
       "3  SIN_CORTEX  SIN_CORTEX  SIN_CORTEX  0   NO  SIN_TILOSTILOS_ADICIONALES   \n",
       "4  SIN_CORTEX  SIN_CORTEX  SIN_CORTEX  0   NO  SIN_TILOSTILOS_ADICIONALES   \n",
       "\n",
       "   ...  MASIVO_IRREGULAR  0 NO.12  OTROS RUGOSA   RADIAL NO.13 NO.14 NO.15  \\\n",
       "0  ...       INCRUSTANTE  0    NO      ?   LISA  CONFUSA    NO    SI    NO   \n",
       "1  ...       INCRUSTANTE  1    SI  OTROS   LISA  CONFUSA    NO    SI    NO   \n",
       "2  ...  MASIVO_IRREGULAR  3    SI  OTROS   LISA  CONFUSA    NO    SI    NO   \n",
       "3  ...       INCRUSTANTE  0    NO  OTROS   LISA  CONFUSA    NO    SI    NO   \n",
       "4  ...       INCRUSTANTE  1    SI  OTROS   LISA  CONFUSA    NO    SI    NO   \n",
       "\n",
       "   DURO  \n",
       "0  DURO  \n",
       "1  DURO  \n",
       "2  DURO  \n",
       "3  DURO  \n",
       "4  DURO  \n",
       "\n",
       "[5 rows x 46 columns]"
      ]
     },
     "execution_count": 57,
     "metadata": {},
     "output_type": "execute_result"
    }
   ],
   "source": [
    "df.head()"
   ]
  },
  {
   "cell_type": "markdown",
   "metadata": {},
   "source": [
    "# Data Preprocessing"
   ]
  },
  {
   "cell_type": "markdown",
   "metadata": {
    "id": "1l3ly_sa-Jaw"
   },
   "source": [
    "__Check for missing values:__"
   ]
  },
  {
   "cell_type": "code",
   "execution_count": 58,
   "metadata": {
    "colab": {
     "base_uri": "https://localhost:8080/"
    },
    "id": "gdYHzk5I9iRc",
    "outputId": "2c8ff5a7-445d-451b-de69-2391eebbe450"
   },
   "outputs": [
    {
     "name": "stdout",
     "output_type": "stream",
     "text": [
      "<class 'pandas.core.frame.DataFrame'>\n",
      "RangeIndex: 75 entries, 0 to 74\n",
      "Data columns (total 46 columns):\n",
      " #   Column                             Non-Null Count  Dtype \n",
      "---  ------                             --------------  ----- \n",
      " 0   AAPTOS_AAPTOS                      75 non-null     object\n",
      " 1   1_CAPA                             75 non-null     object\n",
      " 2   SIN_CAPA_INTERNA_DEL_CORTEX        75 non-null     object\n",
      " 3   SI                                 75 non-null     object\n",
      " 4   NO                                 75 non-null     object\n",
      " 5   NO.1                               75 non-null     object\n",
      " 6   NO.2                               75 non-null     object\n",
      " 7   3                                  75 non-null     int64 \n",
      " 8   NO.3                               75 non-null     object\n",
      " 9   SIN_TILOSTILOS_ADICIONALES         75 non-null     object\n",
      " 10  1_TIPO                             75 non-null     object\n",
      " 11  NO.4                               75 non-null     object\n",
      " 12  NO.5                               75 non-null     object\n",
      " 13  NO.6                               75 non-null     object\n",
      " 14  NO.7                               75 non-null     object\n",
      " 15  SI.1                               75 non-null     object\n",
      " 16  NO.8                               75 non-null     object\n",
      " 17  NO.9                               75 non-null     object\n",
      " 18  SIN_ESPICULA_PRINCIPAL_ESTILO      75 non-null     object\n",
      " 19  SIN_ESPICULA_PRINCIPAL_TILOSTILO_  75 non-null     object\n",
      " 20  SIN_TILOSTILOS                     75 non-null     object\n",
      " 21  EMPALIZADA                         75 non-null     object\n",
      " 22  SUBESFERICA_ALARGADA_OVOIDE        75 non-null     object\n",
      " 23  RECTA_FUSIFORME                    75 non-null     object\n",
      " 24  ESTILO                             75 non-null     object\n",
      " 25  SIN_EXOSTILOS                      75 non-null     object\n",
      " 26  SIN_MEGASCLERA_INTERMEDIARIA       75 non-null     object\n",
      " 27  SIN_MEGASCLERA_INTERMEDIARIA.1     75 non-null     object\n",
      " 28  3.1                                75 non-null     int64 \n",
      " 29  NO.10                              75 non-null     object\n",
      " 30  SIN_MICROSCLERAS                   75 non-null     object\n",
      " 31  NO.11                              75 non-null     object\n",
      " 32  SIN_ESFERASTER                     75 non-null     object\n",
      " 33  SIN_ASTER                          75 non-null     object\n",
      " 34  SIN_DIPLASTERES                    75 non-null     object\n",
      " 35  SIN_ESFERASTER.1                   75 non-null     object\n",
      " 36  MASIVO_IRREGULAR                   75 non-null     object\n",
      " 37  0                                  75 non-null     int64 \n",
      " 38  NO.12                              75 non-null     object\n",
      " 39  OTROS                              75 non-null     object\n",
      " 40  RUGOSA                             75 non-null     object\n",
      " 41  RADIAL                             75 non-null     object\n",
      " 42  NO.13                              75 non-null     object\n",
      " 43  NO.14                              75 non-null     object\n",
      " 44  NO.15                              75 non-null     object\n",
      " 45  DURO                               75 non-null     object\n",
      "dtypes: int64(3), object(43)\n",
      "memory usage: 27.1+ KB\n"
     ]
    }
   ],
   "source": [
    "df.info()"
   ]
  },
  {
   "cell_type": "markdown",
   "metadata": {
    "id": "2WEJrUCL-nOF"
   },
   "source": [
    "__One Hot Encoding:__"
   ]
  },
  {
   "cell_type": "code",
   "execution_count": 59,
   "metadata": {
    "colab": {
     "base_uri": "https://localhost:8080/"
    },
    "id": "TtH-hvof9gwM",
    "outputId": "c27d3522-445e-470c-8179-b56907edd517"
   },
   "outputs": [
    {
     "name": "stdout",
     "output_type": "stream",
     "text": [
      "{'AAPTOS_AAPTOS': {'ALECTONA_MILLARI': 0, 'CLIONA_CARTERI': 1, 'CLIONA_CELATA': 2, 'CLIONA_LABYRINTHICA': 3, 'CLIONA_SCHMIDTI': 4, 'CLIONA_VIRIDIS': 5, 'DIPLASTRELLA_BISTELLATA': 6, 'DIPLASTRELLA_ORNATA': 7, 'LAXOSUBERITES_ECTYONIMUS': 8, 'LAXOSUBERITES_FERRERHERNANDEZI': 9, 'LAXOSUBERITES_RUGOSUS': 10, 'OXYCORDYLA_PELLITA': 11, 'POLYMASTIA_AGGLUTINARIS': 12, 'POLYMASTIA_CONIGERA': 13, 'POLYMASTIA_CORTICATA': 14, 'POLYMASTIA_ECTOFIBROSA': 15, 'POLYMASTIA_FUSCA': 16, 'POLYMASTIA_GRIMALDI': 17, 'POLYMASTIA_HIRSUTA': 18, 'POLYMASTIA_INFLATA': 19, 'POLYMASTIA_INFRAPILOSA': 20, 'POLYMASTIA_INVAGINATA': 21, 'POLYMASTIA_LITTORALIS': 22, 'POLYMASTIA_MAMMILLARIS': 23, 'POLYMASTIA_MARTAE': 24, 'POLYMASTIA_POLYTYLOTA': 25, 'POLYMASTIA_RADIOSA': 26, 'POLYMASTIA_ROBUSTA': 27, 'POLYMASTIA_SPINULA': 28, 'POLYMASTIA_TENAX': 29, 'POLYMASTIA_TISSIERI': 30, 'POLYMASTIA_UBERRIMA': 31, 'PROSUBERITES_EPIPHYTUM': 32, 'PROSUBERITES_LONGISPINA': 33, 'PROSUBERITES_RUGOSUS': 34, 'PROTELEIA_SOLLASI': 35, 'PSEUDOSUBERITES_HYALINUS': 36, 'PSEUDOSUBERITES_SULFUREUS': 37, 'QUASILINA_BREVIS': 38, 'QUASILINA_INTERMEDIA': 39, 'QUASILINA_RICHARDII': 40, 'RHIZAXINELLA_BISETA': 41, 'RHIZAXINELLA_ELONGATA': 42, 'RHIZAXINELLA_PYRIFERA': 43, 'RHIZAXINELLA_UNISETA': 44, 'RIDLEYA_OVIFORMIS': 45, 'SPHAEROTYLUS_ANTARCTICUS': 46, 'SPHAEROTYLUS_CAPITATUS': 47, 'SPINULARIA_SPINULARIA': 48, 'SPIRASTRELLA_CUNCTATRIX': 49, 'SPIRASTRELLA_MINAX': 50, 'STYLOCORDYLA_BOREALIS': 51, 'SUBERITES_CAMINATUS': 52, 'SUBERITES_CARNOSUS_V.INCRUSTANS': 53, 'SUBERITES_CARNOSUS_V.RAMOSUS': 54, 'SUBERITES_CARNOSUS_V.TYPICUS': 55, 'SUBERITES_DOMUNCULA': 56, 'SUBERITES_FICUS': 57, 'SUBERITES_GIBBOSICEPS': 58, 'TENTORIUM_PAPILLATUS': 59, 'TENTORIUM_SEMISUBERITES': 60, 'TERPIOS_FUGAX': 61, 'TETHYA_AURANTIUM': 62, 'TETHYA_CITRINA': 63, 'TIMEA_CHONDRILLOIDES': 64, 'TIMEA_HALLEZI': 65, 'TIMEA_MIXTA': 66, 'TIMEA_STELLATA': 67, 'TIMEA_UNISTELLATA': 68, 'TRACHYTELEIA_STEPHENSI': 69, 'TRICHOSTEMA_HEMISPHAERICUM': 70, 'TRICHOSTEMA_SARSI': 71, 'TYLEXOCLADUS_JOUBINI': 72, 'WEBERELLA_BURSA': 73, 'WEBERELLA_VERRUCOSA': 74}, '1_CAPA': {'1_CAPA': 0, '2_CAPAS': 1, '3_CAPAS': 2, 'SIN_CORTEX': 3}, 'SIN_CAPA_INTERNA_DEL_CORTEX': {'BANDAS_DE_ESPICULAS_CRUZADAS': 0, 'MICROSCLERAS': 1, 'PERPENDICULAR': 2, 'SIN_CAPA_INTERNA_DEL_CORTEX': 3, 'TANGENCIAL': 4, 'TANGENCIAL_Y_PERPENDICULAR': 5}, 'SI': {'NO': 0, 'SI': 1}, 'NO': {'NO': 0, 'SI': 1, 'SIN_CORTEX': 2}, 'NO.1': {'NO': 0, 'SI': 1, 'SIN_CORTEX': 2}, 'NO.2': {'NO': 0, 'SI': 1, 'SIN_CORTEX': 2}, '3': {0: 0, 1: 1, 2: 2, 3: 3, 4: 4}, 'NO.3': {'NO': 0, 'SI': 1}, 'SIN_TILOSTILOS_ADICIONALES': {'ECTOSOMICOS_DISPERSOS': 0, 'ECTOSOMICOS_EN_RAMILLETES': 1, 'INTERMEDIARIOS': 2, 'INTERMEDIARIOS_Y_ECTOSOMICOS': 3, 'SIN_TILOSTILOS_ADICIONALES': 4}, '1_TIPO': {'1_TIPO': 0, '2_TIPOS': 1, '3_TIPOS': 2, 'SI_TIPO': 3}, 'NO.4': {'NO': 0, 'SI': 1}, 'NO.5': {'NO': 0, 'SI': 1}, 'NO.6': {'NO': 0, 'SI': 1}, 'NO.7': {'NO': 0, 'SI': 1}, 'SI.1': {'NO': 0, 'SI': 1}, 'NO.8': {'NO': 0, 'SI': 1}, 'NO.9': {'NO': 0, 'SI': 1}, 'SIN_ESPICULA_PRINCIPAL_ESTILO': {'FUSIFORME': 0, 'NORMAL': 1, 'POLITILOTA': 2, 'SIN_ESPICULA_PRINCIPAL_ESTILO': 3}, 'SIN_ESPICULA_PRINCIPAL_TILOSTILO_': {'FUSIFORME': 0, 'NORMAL': 1, 'POLITILOTA': 2, 'SIN_ESPICULA_PRINCIPAL_TILOSTILO_': 3}, 'SIN_TILOSTILOS': {'POMO': 0, 'SIN_TILOSTILOS': 1, 'SUBESFERICA_ALARGADA_OVOIDE': 2, 'TRILOBULADA': 3}, 'EMPALIZADA': {'EMPALIZADA': 0, 'RAMILLETES': 1, 'SIN_MEGASCLERAS_ECTOSOMICAS': 2, 'TANGENCIALES': 3}, 'SUBESFERICA_ALARGADA_OVOIDE': {'SIN_TILOSTILO_ECTOSOMICO': 0, 'SUBESFERICA_ALARGADA_OVOIDE': 1, 'TRILOBULADA_CON_VESICULA_AXIAL': 2}, 'RECTA_FUSIFORME': {'CURVADA': 0, 'RECTA_FUSIFORME': 1, 'RECTA_NO_FUSIFORME': 2, 'SIN_MEGASCLERA_ECTOSOMICA': 3}, 'ESTILO': {'ESTILO_TILOSTILO': 0, 'OXAS_ESTRONGILOXAS': 1, 'SIN_MEGASCLERA_ECTOSOMICA': 2, 'TILOSTILO': 3}, 'SIN_EXOSTILOS': {'ANATRIENAS': 0, 'CLADOTILOSTILOS': 1, 'ESFEROTILOS': 2, 'SIN_EXOSTILOS': 3, 'TILOSTILOS_ESPINOSOS_EN_LA_PUNTA': 4, 'TILOSTILO_LISO': 5}, 'SIN_MEGASCLERA_INTERMEDIARIA': {'FUSIFORME': 0, 'NORMAL': 1, 'POLITILOTA': 2, 'SIN_MEGASCLERA_INTERMEDIARIA': 3}, 'SIN_MEGASCLERA_INTERMEDIARIA.1': {'ESTILO': 0, 'ESTILO_TILOSTILO': 1, 'SIN_MEGASCLERA_INTERMEDIARIA': 2, 'TILOSTILO': 3}, '3.1': {0: 0, 1: 1, 2: 2, 3: 3}, 'NO.10': {'NO': 0, 'SI': 1}, 'SIN_MICROSCLERAS': {'ASTER': 0, 'MICROESTILOS_Y_MICROXAS': 1, 'MICROESTRONGILOS_CENTROTILOTES': 2, 'SIN_MICROSCLERAS': 3, 'TRICODRAGMA': 4}, 'NO.11': {'NO': 0, 'SI': 1}, 'SIN_ESFERASTER': {'SIN_ESFERASTER': 0, '|10_12|': 1, '|20_25|': 2, '|27_44|': 3, '|40_110|': 4, '|5_6_Y_15_35|': 5}, 'SIN_ASTER': {'ANFIASTER': 0, 'DIPLASTER': 1, 'ESFERASTER': 2, 'ESPIRASTER': 3, 'QUIASTER': 4, 'QUIASTER_Y_ESFERASTER': 5, 'SIN_ASTER': 6}, 'SIN_DIPLASTERES': {'CON_ACTINAS_COMPLEJAS': 0, 'CON_ACTINAS_SIMPLES': 1, 'SIN_DIPLASTERES': 2}, 'SIN_ESFERASTER.1': {'OXIESFERASTER': 0, 'OXIESFERASTER_Y_TILOESFERASTER': 1, 'SIN_ESFERASTER': 2}, 'MASIVO_IRREGULAR': {'DE_CONO_INVERTIDO': 0, 'DE_REVESTIMIENTO': 1, 'GLOBULOSA': 2, 'HEMISFERICA': 3, 'INCRUSTANTE': 4, 'MASIVO_IRREGULAR': 5, 'MAZAS_PEDUNCULADAS_1/PEDUNCULO': 6, 'MAZAS_PEDUNCULADAS_VARIAS/PEDUNCULO': 7, 'RAMIFICADA': 8}, '0': {0: 0, 1: 1, 2: 2, 3: 3, 4: 4}, 'NO.12': {'NO': 0, 'SI': 1}, 'OTROS': {'?': 0, 'AMARILLO_PALIDO': 1, 'AZUL_O_ANARANJADO_INTENSOS': 2, 'OTROS': 3}, 'RUGOSA': {'ATERCIOPELADA': 0, 'CON_AREAS_POLIGONALES_ABULTADAS': 1, 'FRANJA_BASAL_DE_ESPICULAS_EN_FLECO': 2, 'HISPIDEZ_MAYOR_HACIA_LA_BASE': 3, 'LISA': 4, 'RUGOSA': 5, 'SOLO_PAPILAS_LISAS': 6, 'TOTALMENTE_HISPIDA': 7}, 'RADIAL': {'AXIAL': 0, 'CONFUSA': 1, 'HYMEDESMOIDE': 2, 'PLUMOSA': 3, 'RADIAL': 4, 'RADIAL_EN_PERIFERIA': 5, 'REDUCIDO': 6}, 'NO.13': {'NO': 0, 'SI': 1}, 'NO.14': {'NO': 0, 'SI': 1}, 'NO.15': {'NO': 0, 'SI': 1}, 'DURO': {'AMBOS': 0, 'BLANDO': 1, 'DURO': 2}}\n"
     ]
    }
   ],
   "source": [
    "from sklearn import preprocessing\n",
    "#label Encoder\n",
    "category_col = df.columns\n",
    "\n",
    "labelEncoder = preprocessing.LabelEncoder()\n",
    "\n",
    "# creating a map of all the numerical values of each categorical labels.\n",
    "mapping_dict={}\n",
    "for col in category_col:\n",
    "    df[col] = labelEncoder.fit_transform(df[col])\n",
    "    le_name_mapping = dict(zip(labelEncoder.classes_, labelEncoder.transform(labelEncoder.classes_)))\n",
    "    mapping_dict[col]=le_name_mapping\n",
    "print(mapping_dict)"
   ]
  },
  {
   "cell_type": "markdown",
   "metadata": {},
   "source": [
    "# Appling clustering algorithms "
   ]
  },
  {
   "cell_type": "markdown",
   "metadata": {
    "id": "AQN4KLKc-eTo"
   },
   "source": [
    "__K-Means:__"
   ]
  },
  {
   "cell_type": "code",
   "execution_count": 60,
   "metadata": {
    "id": "SwcXa8Co8NQi"
   },
   "outputs": [],
   "source": [
    "# X1 = df[['Age' , 'Spending Score (1-100)']].iloc[: , :].values\n",
    "inertia = []\n",
    "for n in range(2 , 11):\n",
    "    algorithm = (KMeans(n_clusters = n ,init='k-means++', n_init = 10 ,max_iter=300, \n",
    "                        tol=0.0001,  random_state= 111  , algorithm='elkan') )\n",
    "    algorithm.fit(df)\n",
    "    inertia.append(algorithm.inertia_)"
   ]
  },
  {
   "cell_type": "code",
   "execution_count": 61,
   "metadata": {
    "colab": {
     "base_uri": "https://localhost:8080/",
     "height": 392
    },
    "id": "Bva77IQQ9b-3",
    "outputId": "0825e983-a8dd-4d4f-8419-6111583c593d"
   },
   "outputs": [
    {
     "data": {
      "image/png": "[encoded data removed]",
      "text/plain": [
       "<Figure size 432x432 with 1 Axes>"
      ]
     },
     "metadata": {
      "needs_background": "light"
     },
     "output_type": "display_data"
    }
   ],
   "source": [
    "# using kneed to find the best k value.\n",
    "kl = KneeLocator(range(2,11) , inertia, curve=\"convex\", direction=\"decreasing\")\n",
    "kl.plot_knee()"
   ]
  },
  {
   "cell_type": "markdown",
   "metadata": {
    "id": "eWfttxW6Ak-o"
   },
   "source": [
    "__The best K value using the elbow method is 4.__"
   ]
  },
  {
   "cell_type": "markdown",
   "metadata": {
    "id": "haY5a8qTAyLZ"
   },
   "source": [
    "## Task 2:"
   ]
  },
  {
   "cell_type": "markdown",
   "metadata": {},
   "source": [
    "# Downloading the Dataset "
   ]
  },
  {
   "cell_type": "code",
   "execution_count": 62,
   "metadata": {
    "colab": {
     "base_uri": "https://localhost:8080/"
    },
    "id": "wJ2CMYgh9sgT",
    "outputId": "998828ed-72fd-4fc1-f828-8eff234b2d8b"
   },
   "outputs": [],
   "source": [
    "data =pd.read_csv('water-treatment.data',\n",
    "                  names = [\"Q-E\",  \"ZN-E\",  \"PH-E\",  \"DBO-E\",  \"DQO-E\",  \"SS-E\",  \"SSV-E\",  \"SED-E\",  \"COND-E\",  \"PH-P\"       \n",
    "    ,  \"DBO-P\",  \"SS-P\",  \"SSV-P\",  \"SED-P\",  \"COND-P\",  \"PH-D\",  \"DBO-D\",  \"DQO-D\",  \"SS-D\",  \"SSV-D\"      \n",
    "    ,  \"SED-D\",  \"COND-D\", \"PH-S\",  \"DBO-S\",  \"DQO-S\",   \"SS-S\",  \"SSV-S\",  \"SED-S\",  \"COND-S\"     \n",
    "    ,  \"RD-DBO-P\",  \"RD-SS-P\",  \"RD-SED-P\",  \"RD-DBO-S\",  \"RD-DQO-S\",  \"RD-DBO-G\",  \"RD-DQO-G\",  \"RD-SS-G\",  \"RD-SED-G\"])\n",
    "\n"
   ]
  },
  {
   "cell_type": "markdown",
   "metadata": {},
   "source": [
    "# Data Exploration"
   ]
  },
  {
   "cell_type": "code",
   "execution_count": 63,
   "metadata": {},
   "outputs": [
    {
     "name": "stdout",
     "output_type": "stream",
     "text": [
      "Our data-set have 527 instances and 38 attributes.\n"
     ]
    }
   ],
   "source": [
    "print(\"Our data-set have {} instances and {} attributes.\" .format(data.shape[0], data.shape[1]))"
   ]
  },
  {
   "cell_type": "code",
   "execution_count": 64,
   "metadata": {},
   "outputs": [
    {
     "data": {
      "text/html": [
       "<div>\n",
       "<style scoped>\n",
       "    .dataframe tbody tr th:only-of-type {\n",
       "        vertical-align: middle;\n",
       "    }\n",
       "\n",
       "    .dataframe tbody tr th {\n",
       "        vertical-align: top;\n",
       "    }\n",
       "\n",
       "    .dataframe thead th {\n",
       "        text-align: right;\n",
       "    }\n",
       "</style>\n",
       "<table border=\"1\" class=\"dataframe\">\n",
       "  <thead>\n",
       "    <tr style=\"text-align: right;\">\n",
       "      <th></th>\n",
       "      <th>PH-E</th>\n",
       "      <th>COND-E</th>\n",
       "      <th>PH-P</th>\n",
       "      <th>SS-P</th>\n",
       "      <th>COND-P</th>\n",
       "      <th>PH-D</th>\n",
       "      <th>COND-D</th>\n",
       "    </tr>\n",
       "  </thead>\n",
       "  <tbody>\n",
       "    <tr>\n",
       "      <th>count</th>\n",
       "      <td>527.000000</td>\n",
       "      <td>527.000000</td>\n",
       "      <td>527.000000</td>\n",
       "      <td>527.000000</td>\n",
       "      <td>527.000000</td>\n",
       "      <td>527.000000</td>\n",
       "      <td>527.000000</td>\n",
       "    </tr>\n",
       "    <tr>\n",
       "      <th>mean</th>\n",
       "      <td>7.810057</td>\n",
       "      <td>1478.620493</td>\n",
       "      <td>7.829981</td>\n",
       "      <td>253.952562</td>\n",
       "      <td>1496.034156</td>\n",
       "      <td>7.811954</td>\n",
       "      <td>1490.569260</td>\n",
       "    </tr>\n",
       "    <tr>\n",
       "      <th>std</th>\n",
       "      <td>0.246175</td>\n",
       "      <td>394.898019</td>\n",
       "      <td>0.226925</td>\n",
       "      <td>147.458468</td>\n",
       "      <td>402.588656</td>\n",
       "      <td>0.199594</td>\n",
       "      <td>399.990816</td>\n",
       "    </tr>\n",
       "    <tr>\n",
       "      <th>min</th>\n",
       "      <td>6.900000</td>\n",
       "      <td>651.000000</td>\n",
       "      <td>7.300000</td>\n",
       "      <td>104.000000</td>\n",
       "      <td>646.000000</td>\n",
       "      <td>7.100000</td>\n",
       "      <td>85.000000</td>\n",
       "    </tr>\n",
       "    <tr>\n",
       "      <th>25%</th>\n",
       "      <td>7.600000</td>\n",
       "      <td>1201.000000</td>\n",
       "      <td>7.700000</td>\n",
       "      <td>184.000000</td>\n",
       "      <td>1217.000000</td>\n",
       "      <td>7.700000</td>\n",
       "      <td>1225.500000</td>\n",
       "    </tr>\n",
       "    <tr>\n",
       "      <th>50%</th>\n",
       "      <td>7.800000</td>\n",
       "      <td>1406.000000</td>\n",
       "      <td>7.800000</td>\n",
       "      <td>220.000000</td>\n",
       "      <td>1420.000000</td>\n",
       "      <td>7.800000</td>\n",
       "      <td>1428.000000</td>\n",
       "    </tr>\n",
       "    <tr>\n",
       "      <th>75%</th>\n",
       "      <td>8.000000</td>\n",
       "      <td>1672.000000</td>\n",
       "      <td>8.000000</td>\n",
       "      <td>272.000000</td>\n",
       "      <td>1713.500000</td>\n",
       "      <td>7.900000</td>\n",
       "      <td>1701.000000</td>\n",
       "    </tr>\n",
       "    <tr>\n",
       "      <th>max</th>\n",
       "      <td>8.700000</td>\n",
       "      <td>3230.000000</td>\n",
       "      <td>8.500000</td>\n",
       "      <td>1692.000000</td>\n",
       "      <td>3170.000000</td>\n",
       "      <td>8.400000</td>\n",
       "      <td>3690.000000</td>\n",
       "    </tr>\n",
       "  </tbody>\n",
       "</table>\n",
       "</div>"
      ],
      "text/plain": [
       "             PH-E       COND-E        PH-P         SS-P       COND-P  \\\n",
       "count  527.000000   527.000000  527.000000   527.000000   527.000000   \n",
       "mean     7.810057  1478.620493    7.829981   253.952562  1496.034156   \n",
       "std      0.246175   394.898019    0.226925   147.458468   402.588656   \n",
       "min      6.900000   651.000000    7.300000   104.000000   646.000000   \n",
       "25%      7.600000  1201.000000    7.700000   184.000000  1217.000000   \n",
       "50%      7.800000  1406.000000    7.800000   220.000000  1420.000000   \n",
       "75%      8.000000  1672.000000    8.000000   272.000000  1713.500000   \n",
       "max      8.700000  3230.000000    8.500000  1692.000000  3170.000000   \n",
       "\n",
       "             PH-D       COND-D  \n",
       "count  527.000000   527.000000  \n",
       "mean     7.811954  1490.569260  \n",
       "std      0.199594   399.990816  \n",
       "min      7.100000    85.000000  \n",
       "25%      7.700000  1225.500000  \n",
       "50%      7.800000  1428.000000  \n",
       "75%      7.900000  1701.000000  \n",
       "max      8.400000  3690.000000  "
      ]
     },
     "execution_count": 64,
     "metadata": {},
     "output_type": "execute_result"
    }
   ],
   "source": [
    "data.describe()"
   ]
  },
  {
   "cell_type": "code",
   "execution_count": 65,
   "metadata": {
    "colab": {
     "base_uri": "https://localhost:8080/",
     "height": 334
    },
    "id": "BcqYIgY1BORu",
    "outputId": "94bfb66e-6af0-4400-ae0e-febf5207aebb"
   },
   "outputs": [
    {
     "data": {
      "text/html": [
       "<div>\n",
       "<style scoped>\n",
       "    .dataframe tbody tr th:only-of-type {\n",
       "        vertical-align: middle;\n",
       "    }\n",
       "\n",
       "    .dataframe tbody tr th {\n",
       "        vertical-align: top;\n",
       "    }\n",
       "\n",
       "    .dataframe thead th {\n",
       "        text-align: right;\n",
       "    }\n",
       "</style>\n",
       "<table border=\"1\" class=\"dataframe\">\n",
       "  <thead>\n",
       "    <tr style=\"text-align: right;\">\n",
       "      <th></th>\n",
       "      <th>Q-E</th>\n",
       "      <th>ZN-E</th>\n",
       "      <th>PH-E</th>\n",
       "      <th>DBO-E</th>\n",
       "      <th>DQO-E</th>\n",
       "      <th>SS-E</th>\n",
       "      <th>SSV-E</th>\n",
       "      <th>SED-E</th>\n",
       "      <th>COND-E</th>\n",
       "      <th>PH-P</th>\n",
       "      <th>...</th>\n",
       "      <th>COND-S</th>\n",
       "      <th>RD-DBO-P</th>\n",
       "      <th>RD-SS-P</th>\n",
       "      <th>RD-SED-P</th>\n",
       "      <th>RD-DBO-S</th>\n",
       "      <th>RD-DQO-S</th>\n",
       "      <th>RD-DBO-G</th>\n",
       "      <th>RD-DQO-G</th>\n",
       "      <th>RD-SS-G</th>\n",
       "      <th>RD-SED-G</th>\n",
       "    </tr>\n",
       "  </thead>\n",
       "  <tbody>\n",
       "    <tr>\n",
       "      <th>D-1/3/90</th>\n",
       "      <td>44101</td>\n",
       "      <td>1.50</td>\n",
       "      <td>7.8</td>\n",
       "      <td>?</td>\n",
       "      <td>407</td>\n",
       "      <td>166</td>\n",
       "      <td>66.3</td>\n",
       "      <td>4.5</td>\n",
       "      <td>2110</td>\n",
       "      <td>7.9</td>\n",
       "      <td>...</td>\n",
       "      <td>2000</td>\n",
       "      <td>?</td>\n",
       "      <td>58.8</td>\n",
       "      <td>95.5</td>\n",
       "      <td>?</td>\n",
       "      <td>70.0</td>\n",
       "      <td>?</td>\n",
       "      <td>79.4</td>\n",
       "      <td>87.3</td>\n",
       "      <td>99.6</td>\n",
       "    </tr>\n",
       "    <tr>\n",
       "      <th>D-2/3/90</th>\n",
       "      <td>39024</td>\n",
       "      <td>3.00</td>\n",
       "      <td>7.7</td>\n",
       "      <td>?</td>\n",
       "      <td>443</td>\n",
       "      <td>214</td>\n",
       "      <td>69.2</td>\n",
       "      <td>6.5</td>\n",
       "      <td>2660</td>\n",
       "      <td>7.7</td>\n",
       "      <td>...</td>\n",
       "      <td>2590</td>\n",
       "      <td>?</td>\n",
       "      <td>60.7</td>\n",
       "      <td>94.8</td>\n",
       "      <td>?</td>\n",
       "      <td>80.8</td>\n",
       "      <td>?</td>\n",
       "      <td>79.5</td>\n",
       "      <td>92.1</td>\n",
       "      <td>100</td>\n",
       "    </tr>\n",
       "    <tr>\n",
       "      <th>D-4/3/90</th>\n",
       "      <td>32229</td>\n",
       "      <td>5.00</td>\n",
       "      <td>7.6</td>\n",
       "      <td>?</td>\n",
       "      <td>528</td>\n",
       "      <td>186</td>\n",
       "      <td>69.9</td>\n",
       "      <td>3.4</td>\n",
       "      <td>1666</td>\n",
       "      <td>7.7</td>\n",
       "      <td>...</td>\n",
       "      <td>1888</td>\n",
       "      <td>?</td>\n",
       "      <td>58.2</td>\n",
       "      <td>95.6</td>\n",
       "      <td>?</td>\n",
       "      <td>52.9</td>\n",
       "      <td>?</td>\n",
       "      <td>75.8</td>\n",
       "      <td>88.7</td>\n",
       "      <td>98.5</td>\n",
       "    </tr>\n",
       "    <tr>\n",
       "      <th>D-5/3/90</th>\n",
       "      <td>35023</td>\n",
       "      <td>3.50</td>\n",
       "      <td>7.9</td>\n",
       "      <td>205</td>\n",
       "      <td>588</td>\n",
       "      <td>192</td>\n",
       "      <td>65.6</td>\n",
       "      <td>4.5</td>\n",
       "      <td>2430</td>\n",
       "      <td>7.8</td>\n",
       "      <td>...</td>\n",
       "      <td>1840</td>\n",
       "      <td>33.1</td>\n",
       "      <td>64.2</td>\n",
       "      <td>95.3</td>\n",
       "      <td>87.3</td>\n",
       "      <td>72.3</td>\n",
       "      <td>90.2</td>\n",
       "      <td>82.3</td>\n",
       "      <td>89.6</td>\n",
       "      <td>100</td>\n",
       "    </tr>\n",
       "    <tr>\n",
       "      <th>D-6/3/90</th>\n",
       "      <td>36924</td>\n",
       "      <td>1.50</td>\n",
       "      <td>8.0</td>\n",
       "      <td>242</td>\n",
       "      <td>496</td>\n",
       "      <td>176</td>\n",
       "      <td>64.8</td>\n",
       "      <td>4.0</td>\n",
       "      <td>2110</td>\n",
       "      <td>7.9</td>\n",
       "      <td>...</td>\n",
       "      <td>2120</td>\n",
       "      <td>?</td>\n",
       "      <td>62.7</td>\n",
       "      <td>95.6</td>\n",
       "      <td>?</td>\n",
       "      <td>71.0</td>\n",
       "      <td>92.1</td>\n",
       "      <td>78.2</td>\n",
       "      <td>87.5</td>\n",
       "      <td>99.5</td>\n",
       "    </tr>\n",
       "  </tbody>\n",
       "</table>\n",
       "<p>5 rows × 38 columns</p>\n",
       "</div>"
      ],
      "text/plain": [
       "            Q-E  ZN-E  PH-E DBO-E DQO-E SS-E SSV-E SED-E  COND-E  PH-P  ...  \\\n",
       "D-1/3/90  44101  1.50   7.8     ?   407  166  66.3   4.5    2110   7.9  ...   \n",
       "D-2/3/90  39024  3.00   7.7     ?   443  214  69.2   6.5    2660   7.7  ...   \n",
       "D-4/3/90  32229  5.00   7.6     ?   528  186  69.9   3.4    1666   7.7  ...   \n",
       "D-5/3/90  35023  3.50   7.9   205   588  192  65.6   4.5    2430   7.8  ...   \n",
       "D-6/3/90  36924  1.50   8.0   242   496  176  64.8   4.0    2110   7.9  ...   \n",
       "\n",
       "         COND-S  RD-DBO-P RD-SS-P RD-SED-P  RD-DBO-S  RD-DQO-S RD-DBO-G  \\\n",
       "D-1/3/90   2000         ?    58.8     95.5         ?      70.0        ?   \n",
       "D-2/3/90   2590         ?    60.7     94.8         ?      80.8        ?   \n",
       "D-4/3/90   1888         ?    58.2     95.6         ?      52.9        ?   \n",
       "D-5/3/90   1840      33.1    64.2     95.3      87.3      72.3     90.2   \n",
       "D-6/3/90   2120         ?    62.7     95.6         ?      71.0     92.1   \n",
       "\n",
       "         RD-DQO-G RD-SS-G RD-SED-G  \n",
       "D-1/3/90     79.4    87.3     99.6  \n",
       "D-2/3/90     79.5    92.1      100  \n",
       "D-4/3/90     75.8    88.7     98.5  \n",
       "D-5/3/90     82.3    89.6      100  \n",
       "D-6/3/90     78.2    87.5     99.5  \n",
       "\n",
       "[5 rows x 38 columns]"
      ]
     },
     "execution_count": 65,
     "metadata": {},
     "output_type": "execute_result"
    }
   ],
   "source": [
    "data.head()"
   ]
  },
  {
   "cell_type": "markdown",
   "metadata": {},
   "source": [
    "# Data Preprocessing"
   ]
  },
  {
   "cell_type": "markdown",
   "metadata": {
    "id": "LyH_W02IGBjt"
   },
   "source": [
    "__Replacing \"?\" with 0:__"
   ]
  },
  {
   "cell_type": "code",
   "execution_count": 66,
   "metadata": {
    "id": "M7ZmQjhBBQVC"
   },
   "outputs": [],
   "source": [
    "data = data.replace(['?'], 0)"
   ]
  },
  {
   "cell_type": "markdown",
   "metadata": {
    "id": "FP9OKYvUGnR7"
   },
   "source": [
    "__Misiing Value Check:__"
   ]
  },
  {
   "cell_type": "code",
   "execution_count": 67,
   "metadata": {
    "colab": {
     "base_uri": "https://localhost:8080/"
    },
    "id": "A0PqzvfBGdnL",
    "outputId": "321e2929-f786-4896-b04b-1c78208cd9d7"
   },
   "outputs": [
    {
     "name": "stdout",
     "output_type": "stream",
     "text": [
      "<class 'pandas.core.frame.DataFrame'>\n",
      "Index: 527 entries, D-1/3/90 to D-30/8/91\n",
      "Data columns (total 38 columns):\n",
      " #   Column    Non-Null Count  Dtype  \n",
      "---  ------    --------------  -----  \n",
      " 0   Q-E       527 non-null    object \n",
      " 1   ZN-E      527 non-null    object \n",
      " 2   PH-E      527 non-null    float64\n",
      " 3   DBO-E     527 non-null    object \n",
      " 4   DQO-E     527 non-null    object \n",
      " 5   SS-E      527 non-null    object \n",
      " 6   SSV-E     527 non-null    object \n",
      " 7   SED-E     527 non-null    object \n",
      " 8   COND-E    527 non-null    int64  \n",
      " 9   PH-P      527 non-null    float64\n",
      " 10  DBO-P     527 non-null    object \n",
      " 11  SS-P      527 non-null    int64  \n",
      " 12  SSV-P     527 non-null    object \n",
      " 13  SED-P     527 non-null    object \n",
      " 14  COND-P    527 non-null    int64  \n",
      " 15  PH-D      527 non-null    float64\n",
      " 16  DBO-D     527 non-null    object \n",
      " 17  DQO-D     527 non-null    object \n",
      " 18  SS-D      527 non-null    object \n",
      " 19  SSV-D     527 non-null    object \n",
      " 20  SED-D     527 non-null    object \n",
      " 21  COND-D    527 non-null    int64  \n",
      " 22  PH-S      527 non-null    object \n",
      " 23  DBO-S     527 non-null    object \n",
      " 24  DQO-S     527 non-null    object \n",
      " 25  SS-S      527 non-null    object \n",
      " 26  SSV-S     527 non-null    object \n",
      " 27  SED-S     527 non-null    object \n",
      " 28  COND-S    527 non-null    object \n",
      " 29  RD-DBO-P  527 non-null    object \n",
      " 30  RD-SS-P   527 non-null    object \n",
      " 31  RD-SED-P  527 non-null    object \n",
      " 32  RD-DBO-S  527 non-null    object \n",
      " 33  RD-DQO-S  527 non-null    object \n",
      " 34  RD-DBO-G  527 non-null    object \n",
      " 35  RD-DQO-G  527 non-null    object \n",
      " 36  RD-SS-G   527 non-null    object \n",
      " 37  RD-SED-G  527 non-null    object \n",
      "dtypes: float64(3), int64(4), object(31)\n",
      "memory usage: 160.6+ KB\n"
     ]
    }
   ],
   "source": [
    "data.info()"
   ]
  },
  {
   "cell_type": "markdown",
   "metadata": {},
   "source": [
    "# Appling clustering algorithms"
   ]
  },
  {
   "cell_type": "markdown",
   "metadata": {
    "id": "tjciqaYOG9La"
   },
   "source": [
    "__Hierarchical clustering:__"
   ]
  },
  {
   "cell_type": "code",
   "execution_count": 68,
   "metadata": {
    "colab": {
     "base_uri": "https://localhost:8080/",
     "height": 444
    },
    "id": "tbAJTpKPGeuh",
    "outputId": "4486a386-f35c-4d14-dfd8-242ecfe10864"
   },
   "outputs": [
    {
     "data": {
      "image/png": "[encoded data removed]",
      "text/plain": [
       "<Figure size 1080x504 with 1 Axes>"
      ]
     },
     "metadata": {
      "needs_background": "light"
     },
     "output_type": "display_data"
    }
   ],
   "source": [
    "import scipy.cluster.hierarchy as shc\n",
    "plt.figure(figsize=(15, 7))  \n",
    "plt.title(\"Dendrograms\")  \n",
    "dend = shc.dendrogram(shc.linkage(data, method='ward'))"
   ]
  },
  {
   "cell_type": "code",
   "execution_count": 69,
   "metadata": {
    "id": "egiqnyd2JPWg"
   },
   "outputs": [],
   "source": [
    "cluster1 = AgglomerativeClustering(n_clusters=2, affinity='euclidean', linkage='ward')  \n",
    "y_pred = cluster1.fit_predict(data)"
   ]
  },
  {
   "cell_type": "code",
   "execution_count": 70,
   "metadata": {
    "id": "prgukkjVKGGZ"
   },
   "outputs": [
    {
     "data": {
      "text/plain": [
       "0.793351030161192"
      ]
     },
     "execution_count": 70,
     "metadata": {},
     "output_type": "execute_result"
    }
   ],
   "source": [
    "silhouette_score(data, cluster1.fit_predict(data))"
   ]
  },
  {
   "cell_type": "markdown",
   "metadata": {
    "id": "mLCkJxXkKptp"
   },
   "source": [
    "__Density Based Cluster:__"
   ]
  },
  {
   "cell_type": "code",
   "execution_count": 71,
   "metadata": {
    "id": "_AuWN_fqKpWP"
   },
   "outputs": [],
   "source": [
    "cluster2 = DBSCAN(eps=500, min_samples=10).fit(data)\n",
    "y_pred = cluster2.fit_predict(data)"
   ]
  },
  {
   "cell_type": "code",
   "execution_count": 72,
   "metadata": {},
   "outputs": [
    {
     "data": {
      "text/plain": [
       "-0.35253146318091017"
      ]
     },
     "execution_count": 72,
     "metadata": {},
     "output_type": "execute_result"
    }
   ],
   "source": [
    "silhouette_score(data, cluster2.fit_predict(data))"
   ]
  }
 ],
 "metadata": {
  "colab": {
   "collapsed_sections": [],
   "name": "Data_Mining_Louai.ipynb",
   "provenance": []
  },
  "kernelspec": {
   "display_name": "Python 3",
   "language": "python",
   "name": "python3"
  },
  "language_info": {
   "codemirror_mode": {
    "name": "ipython",
    "version": 3
   },
   "file_extension": ".py",
   "mimetype": "text/x-python",
   "name": "python",
   "nbconvert_exporter": "python",
   "pygments_lexer": "ipython3",
   "version": "3.8.3"
  }
 },
 "nbformat": 4,
 "nbformat_minor": 1
}
