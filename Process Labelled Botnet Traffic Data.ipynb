{
 "cells": [
  {
   "cell_type": "markdown",
   "metadata": {},
   "source": [
    "A Botnet is a network of Internet devices (i.e. computers, mobile  etc) that have been manipulated to carry out malicious activities.\n",
    "The owners of such devices are often unaware of this!\n",
    "These Bots serve the wishes of some master known as Command  & Control\n"
   ]
  },
  {
   "cell_type": "code",
   "execution_count": 1,
   "metadata": {},
   "outputs": [],
   "source": [
    "import pandas as pd\n",
    "import numpy as np\n",
    "from sklearn.neighbors import LocalOutlierFactor\n",
    " \n",
    "import matplotlib.pyplot as plt\n",
    "%matplotlib inline"
   ]
  },
  {
   "cell_type": "markdown",
   "metadata": {},
   "source": [
    "### Load Data"
   ]
  },
  {
   "cell_type": "code",
   "execution_count": 2,
   "metadata": {},
   "outputs": [
    {
     "name": "stdout",
     "output_type": "stream",
     "text": [
      "Wall time: 9.36 s\n"
     ]
    }
   ],
   "source": [
    "%%time\n",
    "#print('script started!',flush=True)\n",
    "data = pd.read_csv('ISCX_Botnet_Labelled.csv')"
   ]
  },
  {
   "cell_type": "code",
   "execution_count": 3,
   "metadata": {},
   "outputs": [
    {
     "data": {
      "text/plain": [
       "(10000, 7693)"
      ]
     },
     "execution_count": 3,
     "metadata": {},
     "output_type": "execute_result"
    }
   ],
   "source": [
    "data.shape"
   ]
  },
  {
   "cell_type": "markdown",
   "metadata": {},
   "source": [
    "### Check class distribution .. is it balanced?"
   ]
  },
  {
   "cell_type": "code",
   "execution_count": 4,
   "metadata": {},
   "outputs": [],
   "source": [
    "# Explore BotNet_Label values\n",
    "s = data['BotNet_Label'].value_counts()"
   ]
  },
  {
   "cell_type": "code",
   "execution_count": 5,
   "metadata": {},
   "outputs": [
    {
     "data": {
      "text/plain": [
       "Normal                    4853\n",
       "Weasel Bot                2158\n",
       "Virut                     1405\n",
       "Neris                      742\n",
       "Murlo                      400\n",
       "Menti                      163\n",
       "IRC                        136\n",
       "Zero access                 71\n",
       "TBot                        22\n",
       "Zeus                        14\n",
       "Black hole 2                14\n",
       "RBot                         6\n",
       "Black hole 3                 4\n",
       "Sogou                        3\n",
       "IRCbot and black hole1       3\n",
       "Osx_trojan                   2\n",
       "Weasel Botmaster             2\n",
       "Smoke bot                    2\n",
       "Name: BotNet_Label, dtype: int64"
      ]
     },
     "execution_count": 5,
     "metadata": {},
     "output_type": "execute_result"
    }
   ],
   "source": [
    "s"
   ]
  },
  {
   "cell_type": "code",
   "execution_count": 6,
   "metadata": {},
   "outputs": [],
   "source": [
    "# get a list of labels where the number of instances is > 10\n",
    "labels = list(s[s > 10].index)"
   ]
  },
  {
   "cell_type": "code",
   "execution_count": 7,
   "metadata": {},
   "outputs": [
    {
     "data": {
      "text/plain": [
       "['Normal',\n",
       " 'Weasel Bot',\n",
       " 'Virut',\n",
       " 'Neris',\n",
       " 'Murlo',\n",
       " 'Menti',\n",
       " 'IRC',\n",
       " 'Zero access',\n",
       " 'TBot',\n",
       " 'Zeus',\n",
       " 'Black hole 2']"
      ]
     },
     "execution_count": 7,
     "metadata": {},
     "output_type": "execute_result"
    }
   ],
   "source": [
    "labels"
   ]
  },
  {
   "cell_type": "code",
   "execution_count": 8,
   "metadata": {},
   "outputs": [
    {
     "data": {
      "text/plain": [
       "Normal          4853\n",
       "Weasel Bot      2158\n",
       "Virut           1405\n",
       "Neris            742\n",
       "Murlo            400\n",
       "Menti            163\n",
       "IRC              136\n",
       "Zero access       71\n",
       "TBot              22\n",
       "Black hole 2      14\n",
       "Zeus              14\n",
       "Name: BotNet_Label, dtype: int64"
      ]
     },
     "execution_count": 8,
     "metadata": {},
     "output_type": "execute_result"
    }
   ],
   "source": [
    "# remove BotNets where the number of instances is < 10\n",
    "data = data[data['BotNet_Label'].isin(labels)]\n",
    "data['BotNet_Label'].value_counts()"
   ]
  },
  {
   "cell_type": "code",
   "execution_count": 9,
   "metadata": {},
   "outputs": [
    {
     "data": {
      "text/plain": [
       "Index(['Flow Duration', 'Flow Bytes/s', 'Flow Packets/s', 'Flow IAT Mean',\n",
       "       'Flow IAT Std', 'Flow IAT Max', 'Flow IAT Min', 'Fwd IAT Mean',\n",
       "       'Fwd IAT Std', 'Fwd IAT Max',\n",
       "       ...\n",
       "       'DestPort_63919', 'DestPort_64336', 'DestPort_64939', 'DestPort_64974',\n",
       "       'DestPort_65500', 'DestPort_65520', 'DestPort_65534', 'Protocol_0',\n",
       "       'Protocol_6', 'Protocol_17'],\n",
       "      dtype='object', length=7693)"
      ]
     },
     "execution_count": 9,
     "metadata": {},
     "output_type": "execute_result"
    }
   ],
   "source": [
    "data.columns"
   ]
  },
  {
   "cell_type": "markdown",
   "metadata": {},
   "source": [
    "### Missing value imputation"
   ]
  },
  {
   "cell_type": "code",
   "execution_count": 10,
   "metadata": {},
   "outputs": [
    {
     "name": "stdout",
     "output_type": "stream",
     "text": [
      "symbol ? replaced with NaN\n"
     ]
    },
    {
     "data": {
      "text/plain": [
       "True"
      ]
     },
     "execution_count": 10,
     "metadata": {},
     "output_type": "execute_result"
    }
   ],
   "source": [
    "## FlowGenerator uses ? for a missing value .. let's replace it with NaN\n",
    "data.replace('?', np.NaN,inplace=True)\n",
    "print('symbol ? replaced with NaN',flush=True)\n",
    "# using isnull() function  \n",
    "data.isnull().values.any()"
   ]
  },
  {
   "cell_type": "code",
   "execution_count": 11,
   "metadata": {},
   "outputs": [
    {
     "data": {
      "text/plain": [
       "1"
      ]
     },
     "execution_count": 11,
     "metadata": {},
     "output_type": "execute_result"
    }
   ],
   "source": [
    "data.isnull().sum().sum()"
   ]
  },
  {
   "cell_type": "code",
   "execution_count": 12,
   "metadata": {},
   "outputs": [
    {
     "name": "stdout",
     "output_type": "stream",
     "text": [
      "Wall time: 2.87 s\n"
     ]
    }
   ],
   "source": [
    "%%time\n",
    "## Only run this code if your data contains NaNs\n",
    "## Replace NaNs with the median of the column\n",
    "\n",
    "for c in data.columns:\n",
    "    if c != 'BotNet_Label':\n",
    "        data[c] = pd.to_numeric(data[c], errors='coerce')\n",
    "        data[c] = data[c].replace(np.NaN,data[c].median())\n",
    "#save data so we can use it later\n",
    "#data.to_csv('no_nans.csv',index=False)\n",
    "#print('NaN values replaced with median in %f'%(t2-t1),flush=True)"
   ]
  },
  {
   "cell_type": "markdown",
   "metadata": {},
   "source": [
    "### Plot Correlation Matrix to Check for Highly Correlated Features"
   ]
  },
  {
   "cell_type": "code",
   "execution_count": 13,
   "metadata": {},
   "outputs": [],
   "source": [
    "## use all columns except protocol and ports to save time\n",
    "tmp_df = data[['Flow Duration', 'Flow Bytes/s', 'Flow Packets/s','Flow IAT Mean', 'Flow IAT Std', 'Flow IAT Max', \n",
    "'Flow IAT Min','Fwd IAT Mean', 'Fwd IAT Std', 'Fwd IAT Max', 'Fwd IAT Min','Bwd IAT Mean',\n",
    "'Bwd IAT Std', 'Bwd IAT Max', 'Bwd IAT Min','Active Mean', 'Active Std', 'Active Max', 'Active Min', 'Idle Mean',\n",
    "       'Idle Std', 'Idle Max', 'Idle Min']]"
   ]
  },
  {
   "cell_type": "code",
   "execution_count": 14,
   "metadata": {
    "scrolled": false
   },
   "outputs": [
    {
     "data": {
      "image/png": "[encoded data removed]",
      "text/plain": [
       "<Figure size 1368x1080 with 2 Axes>"
      ]
     },
     "metadata": {
      "needs_background": "light"
     },
     "output_type": "display_data"
    }
   ],
   "source": [
    "f = plt.figure(figsize=(19, 15))\n",
    "plt.matshow(tmp_df.corr(), fignum=f.number)\n",
    "plt.xticks(range(tmp_df.shape[1]), tmp_df.columns, fontsize=14, rotation=45)\n",
    "plt.yticks(range(tmp_df.shape[1]), tmp_df.columns, fontsize=14)\n",
    "cb = plt.colorbar()\n",
    "cb.ax.tick_params(labelsize=14)\n",
    "plt.title('Correlation Matrix', fontsize=16);"
   ]
  },
  {
   "cell_type": "markdown",
   "metadata": {},
   "source": [
    "#### Do it Programmatically"
   ]
  },
  {
   "cell_type": "code",
   "execution_count": 15,
   "metadata": {},
   "outputs": [
    {
     "data": {
      "text/plain": [
       "['Flow IAT Std',\n",
       " 'Flow IAT Min',\n",
       " 'Bwd IAT Mean',\n",
       " 'Bwd IAT Max',\n",
       " 'Idle Mean',\n",
       " 'Idle Max',\n",
       " 'Idle Min']"
      ]
     },
     "execution_count": 15,
     "metadata": {},
     "output_type": "execute_result"
    }
   ],
   "source": [
    "# Create correlation matrix\n",
    "corr_matrix = tmp_df.corr().abs()\n",
    "\n",
    "# Select upper triangle of correlation matrix\n",
    "upper = corr_matrix.where(np.triu(np.ones(corr_matrix.shape), k=1).astype(np.bool))\n",
    "\n",
    "# Find index of feature columns with correlation greater than 0.95\n",
    "to_drop = [column for column in upper.columns if any(upper[column] > 0.95)]\n",
    "to_drop"
   ]
  },
  {
   "cell_type": "markdown",
   "metadata": {},
   "source": [
    "#### Do you want to drop highly correlated features?"
   ]
  },
  {
   "cell_type": "code",
   "execution_count": 16,
   "metadata": {},
   "outputs": [],
   "source": [
    "#remove highly correlated columns\n",
    "data.drop(to_drop,axis=1, inplace=True)"
   ]
  },
  {
   "cell_type": "code",
   "execution_count": 17,
   "metadata": {},
   "outputs": [
    {
     "data": {
      "text/plain": [
       "Index(['Flow Duration', 'Flow Bytes/s', 'Flow Packets/s', 'Flow IAT Mean',\n",
       "       'Flow IAT Max', 'Fwd IAT Mean', 'Fwd IAT Std', 'Fwd IAT Max',\n",
       "       'Fwd IAT Min', 'Bwd IAT Std',\n",
       "       ...\n",
       "       'DestPort_63919', 'DestPort_64336', 'DestPort_64939', 'DestPort_64974',\n",
       "       'DestPort_65500', 'DestPort_65520', 'DestPort_65534', 'Protocol_0',\n",
       "       'Protocol_6', 'Protocol_17'],\n",
       "      dtype='object', length=7686)"
      ]
     },
     "execution_count": 17,
     "metadata": {},
     "output_type": "execute_result"
    }
   ],
   "source": [
    "data.columns"
   ]
  },
  {
   "cell_type": "code",
   "execution_count": 18,
   "metadata": {},
   "outputs": [
    {
     "name": "stdout",
     "output_type": "stream",
     "text": [
      "Wall time: 205 ms\n"
     ]
    }
   ],
   "source": [
    "%%time\n",
    "\n",
    "Y = data['BotNet_Label']\n",
    "data.drop('BotNet_Label', axis=1, inplace=True)\n",
    "\n",
    "#remove single quote from column name\n",
    "#rm_quote = lambda x: x.replace('\\'', '')\n",
    "#cols = data.columns\n",
    "#data.columns = [rm_quote(x) for x in cols]"
   ]
  },
  {
   "cell_type": "markdown",
   "metadata": {},
   "source": [
    "### Run Outlier Detection and Removal?"
   ]
  },
  {
   "cell_type": "code",
   "execution_count": 19,
   "metadata": {},
   "outputs": [
    {
     "name": "stdout",
     "output_type": "stream",
     "text": [
      "To apply mask and removed outliters\n",
      "data to be saved\n",
      "Wall time: 9.41 s\n"
     ]
    }
   ],
   "source": [
    "%%time\n",
    "outliers_fraction = 0.5\n",
    "rng = np.random.RandomState(42)\n",
    "\n",
    "# fit the model\n",
    "#clf = IsolationForest(contamination=outliers_fraction, random_state=rng, n_jobs=60)\n",
    "#clf = EllipticEnvelope(contamination=outliers_fraction)\n",
    "clf = LocalOutlierFactor(n_neighbors=25, contamination=outliers_fraction)\n",
    "y_pred = clf.fit_predict(data)#only for LocalOutlierFactor\n",
    "\n",
    "\n",
    "data['Outlier'] = y_pred\n",
    "data['BotNet_Label'] = Y\n",
    "\n",
    "outlier_mask = data['Outlier'].isin([-1])\n",
    "\n",
    "print('To apply mask and removed outliters',flush=True)\n",
    "data = data.loc[~outlier_mask]\n",
    "data.drop('Outlier', axis=1, inplace=True)\n",
    "print('data to be saved',flush=True)\n",
    "#data.to_csv('no_outliers.csv',index=False)\n"
   ]
  },
  {
   "cell_type": "code",
   "execution_count": 20,
   "metadata": {},
   "outputs": [
    {
     "data": {
      "text/html": [
       "<div>\n",
       "<style scoped>\n",
       "    .dataframe tbody tr th:only-of-type {\n",
       "        vertical-align: middle;\n",
       "    }\n",
       "\n",
       "    .dataframe tbody tr th {\n",
       "        vertical-align: top;\n",
       "    }\n",
       "\n",
       "    .dataframe thead th {\n",
       "        text-align: right;\n",
       "    }\n",
       "</style>\n",
       "<table border=\"1\" class=\"dataframe\">\n",
       "  <thead>\n",
       "    <tr style=\"text-align: right;\">\n",
       "      <th></th>\n",
       "      <th>Flow Duration</th>\n",
       "      <th>Flow Bytes/s</th>\n",
       "      <th>Flow Packets/s</th>\n",
       "      <th>Flow IAT Mean</th>\n",
       "      <th>Flow IAT Max</th>\n",
       "      <th>Fwd IAT Mean</th>\n",
       "      <th>Fwd IAT Std</th>\n",
       "      <th>Fwd IAT Max</th>\n",
       "      <th>Fwd IAT Min</th>\n",
       "      <th>Bwd IAT Std</th>\n",
       "      <th>...</th>\n",
       "      <th>DestPort_64336</th>\n",
       "      <th>DestPort_64939</th>\n",
       "      <th>DestPort_64974</th>\n",
       "      <th>DestPort_65500</th>\n",
       "      <th>DestPort_65520</th>\n",
       "      <th>DestPort_65534</th>\n",
       "      <th>Protocol_0</th>\n",
       "      <th>Protocol_6</th>\n",
       "      <th>Protocol_17</th>\n",
       "      <th>BotNet_Label</th>\n",
       "    </tr>\n",
       "  </thead>\n",
       "  <tbody>\n",
       "    <tr>\n",
       "      <th>0</th>\n",
       "      <td>507</td>\n",
       "      <td>0.000000</td>\n",
       "      <td>5917.159763</td>\n",
       "      <td>2.535000e+02</td>\n",
       "      <td>468.0</td>\n",
       "      <td>253.5</td>\n",
       "      <td>303.348809</td>\n",
       "      <td>468.0</td>\n",
       "      <td>39.0</td>\n",
       "      <td>0.000000</td>\n",
       "      <td>...</td>\n",
       "      <td>0</td>\n",
       "      <td>0</td>\n",
       "      <td>0</td>\n",
       "      <td>0</td>\n",
       "      <td>0</td>\n",
       "      <td>0</td>\n",
       "      <td>0</td>\n",
       "      <td>1</td>\n",
       "      <td>0</td>\n",
       "      <td>Normal</td>\n",
       "    </tr>\n",
       "    <tr>\n",
       "      <th>1</th>\n",
       "      <td>4000</td>\n",
       "      <td>27000.000000</td>\n",
       "      <td>500.000000</td>\n",
       "      <td>4.000000e+03</td>\n",
       "      <td>4000.0</td>\n",
       "      <td>0.0</td>\n",
       "      <td>0.000000</td>\n",
       "      <td>0.0</td>\n",
       "      <td>0.0</td>\n",
       "      <td>0.000000</td>\n",
       "      <td>...</td>\n",
       "      <td>0</td>\n",
       "      <td>0</td>\n",
       "      <td>0</td>\n",
       "      <td>0</td>\n",
       "      <td>0</td>\n",
       "      <td>0</td>\n",
       "      <td>0</td>\n",
       "      <td>0</td>\n",
       "      <td>1</td>\n",
       "      <td>Weasel Bot</td>\n",
       "    </tr>\n",
       "    <tr>\n",
       "      <th>3</th>\n",
       "      <td>452020</td>\n",
       "      <td>477.854962</td>\n",
       "      <td>4.424583</td>\n",
       "      <td>4.520200e+05</td>\n",
       "      <td>452020.0</td>\n",
       "      <td>0.0</td>\n",
       "      <td>0.000000</td>\n",
       "      <td>0.0</td>\n",
       "      <td>0.0</td>\n",
       "      <td>0.000000</td>\n",
       "      <td>...</td>\n",
       "      <td>0</td>\n",
       "      <td>0</td>\n",
       "      <td>0</td>\n",
       "      <td>0</td>\n",
       "      <td>0</td>\n",
       "      <td>0</td>\n",
       "      <td>0</td>\n",
       "      <td>0</td>\n",
       "      <td>1</td>\n",
       "      <td>Normal</td>\n",
       "    </tr>\n",
       "    <tr>\n",
       "      <th>4</th>\n",
       "      <td>777389</td>\n",
       "      <td>231.544311</td>\n",
       "      <td>12.863573</td>\n",
       "      <td>8.637656e+04</td>\n",
       "      <td>693839.0</td>\n",
       "      <td>25282.0</td>\n",
       "      <td>35732.934080</td>\n",
       "      <td>50549.0</td>\n",
       "      <td>15.0</td>\n",
       "      <td>277283.206687</td>\n",
       "      <td>...</td>\n",
       "      <td>0</td>\n",
       "      <td>0</td>\n",
       "      <td>0</td>\n",
       "      <td>0</td>\n",
       "      <td>0</td>\n",
       "      <td>0</td>\n",
       "      <td>0</td>\n",
       "      <td>1</td>\n",
       "      <td>0</td>\n",
       "      <td>Normal</td>\n",
       "    </tr>\n",
       "    <tr>\n",
       "      <th>6</th>\n",
       "      <td>4403730</td>\n",
       "      <td>8177.613069</td>\n",
       "      <td>9.991530</td>\n",
       "      <td>1.024123e+05</td>\n",
       "      <td>686258.0</td>\n",
       "      <td>289588.0</td>\n",
       "      <td>308874.238066</td>\n",
       "      <td>908139.0</td>\n",
       "      <td>182.0</td>\n",
       "      <td>240069.297287</td>\n",
       "      <td>...</td>\n",
       "      <td>0</td>\n",
       "      <td>0</td>\n",
       "      <td>0</td>\n",
       "      <td>0</td>\n",
       "      <td>0</td>\n",
       "      <td>0</td>\n",
       "      <td>0</td>\n",
       "      <td>1</td>\n",
       "      <td>0</td>\n",
       "      <td>Normal</td>\n",
       "    </tr>\n",
       "    <tr>\n",
       "      <th>...</th>\n",
       "      <td>...</td>\n",
       "      <td>...</td>\n",
       "      <td>...</td>\n",
       "      <td>...</td>\n",
       "      <td>...</td>\n",
       "      <td>...</td>\n",
       "      <td>...</td>\n",
       "      <td>...</td>\n",
       "      <td>...</td>\n",
       "      <td>...</td>\n",
       "      <td>...</td>\n",
       "      <td>...</td>\n",
       "      <td>...</td>\n",
       "      <td>...</td>\n",
       "      <td>...</td>\n",
       "      <td>...</td>\n",
       "      <td>...</td>\n",
       "      <td>...</td>\n",
       "      <td>...</td>\n",
       "      <td>...</td>\n",
       "      <td>...</td>\n",
       "    </tr>\n",
       "    <tr>\n",
       "      <th>9994</th>\n",
       "      <td>11</td>\n",
       "      <td>0.000000</td>\n",
       "      <td>181818.181818</td>\n",
       "      <td>1.100000e+01</td>\n",
       "      <td>11.0</td>\n",
       "      <td>11.0</td>\n",
       "      <td>0.000000</td>\n",
       "      <td>11.0</td>\n",
       "      <td>11.0</td>\n",
       "      <td>0.000000</td>\n",
       "      <td>...</td>\n",
       "      <td>0</td>\n",
       "      <td>0</td>\n",
       "      <td>0</td>\n",
       "      <td>0</td>\n",
       "      <td>0</td>\n",
       "      <td>0</td>\n",
       "      <td>0</td>\n",
       "      <td>1</td>\n",
       "      <td>0</td>\n",
       "      <td>Murlo</td>\n",
       "    </tr>\n",
       "    <tr>\n",
       "      <th>9995</th>\n",
       "      <td>91767</td>\n",
       "      <td>0.000000</td>\n",
       "      <td>21.794327</td>\n",
       "      <td>9.176700e+04</td>\n",
       "      <td>91767.0</td>\n",
       "      <td>0.0</td>\n",
       "      <td>0.000000</td>\n",
       "      <td>0.0</td>\n",
       "      <td>0.0</td>\n",
       "      <td>0.000000</td>\n",
       "      <td>...</td>\n",
       "      <td>0</td>\n",
       "      <td>0</td>\n",
       "      <td>0</td>\n",
       "      <td>0</td>\n",
       "      <td>0</td>\n",
       "      <td>0</td>\n",
       "      <td>0</td>\n",
       "      <td>1</td>\n",
       "      <td>0</td>\n",
       "      <td>Weasel Bot</td>\n",
       "    </tr>\n",
       "    <tr>\n",
       "      <th>9996</th>\n",
       "      <td>11025887</td>\n",
       "      <td>4.534783</td>\n",
       "      <td>0.181391</td>\n",
       "      <td>1.102589e+07</td>\n",
       "      <td>11025887.0</td>\n",
       "      <td>11025887.0</td>\n",
       "      <td>0.000000</td>\n",
       "      <td>11025887.0</td>\n",
       "      <td>11025887.0</td>\n",
       "      <td>0.000000</td>\n",
       "      <td>...</td>\n",
       "      <td>0</td>\n",
       "      <td>0</td>\n",
       "      <td>0</td>\n",
       "      <td>0</td>\n",
       "      <td>0</td>\n",
       "      <td>0</td>\n",
       "      <td>0</td>\n",
       "      <td>0</td>\n",
       "      <td>1</td>\n",
       "      <td>Normal</td>\n",
       "    </tr>\n",
       "    <tr>\n",
       "      <th>9997</th>\n",
       "      <td>516788</td>\n",
       "      <td>1400.961323</td>\n",
       "      <td>13.545206</td>\n",
       "      <td>8.613133e+04</td>\n",
       "      <td>279265.0</td>\n",
       "      <td>116479.0</td>\n",
       "      <td>164526.777419</td>\n",
       "      <td>232817.0</td>\n",
       "      <td>141.0</td>\n",
       "      <td>160135.893604</td>\n",
       "      <td>...</td>\n",
       "      <td>0</td>\n",
       "      <td>0</td>\n",
       "      <td>0</td>\n",
       "      <td>0</td>\n",
       "      <td>0</td>\n",
       "      <td>0</td>\n",
       "      <td>0</td>\n",
       "      <td>1</td>\n",
       "      <td>0</td>\n",
       "      <td>Normal</td>\n",
       "    </tr>\n",
       "    <tr>\n",
       "      <th>9998</th>\n",
       "      <td>62917</td>\n",
       "      <td>1335.092264</td>\n",
       "      <td>111.257689</td>\n",
       "      <td>1.048617e+04</td>\n",
       "      <td>47876.0</td>\n",
       "      <td>28382.5</td>\n",
       "      <td>27781.518326</td>\n",
       "      <td>48027.0</td>\n",
       "      <td>8738.0</td>\n",
       "      <td>31056.615350</td>\n",
       "      <td>...</td>\n",
       "      <td>0</td>\n",
       "      <td>0</td>\n",
       "      <td>0</td>\n",
       "      <td>0</td>\n",
       "      <td>0</td>\n",
       "      <td>0</td>\n",
       "      <td>0</td>\n",
       "      <td>1</td>\n",
       "      <td>0</td>\n",
       "      <td>Normal</td>\n",
       "    </tr>\n",
       "  </tbody>\n",
       "</table>\n",
       "<p>4999 rows × 7686 columns</p>\n",
       "</div>"
      ],
      "text/plain": [
       "      Flow Duration  Flow Bytes/s  Flow Packets/s  Flow IAT Mean  \\\n",
       "0               507      0.000000     5917.159763   2.535000e+02   \n",
       "1              4000  27000.000000      500.000000   4.000000e+03   \n",
       "3            452020    477.854962        4.424583   4.520200e+05   \n",
       "4            777389    231.544311       12.863573   8.637656e+04   \n",
       "6           4403730   8177.613069        9.991530   1.024123e+05   \n",
       "...             ...           ...             ...            ...   \n",
       "9994             11      0.000000   181818.181818   1.100000e+01   \n",
       "9995          91767      0.000000       21.794327   9.176700e+04   \n",
       "9996       11025887      4.534783        0.181391   1.102589e+07   \n",
       "9997         516788   1400.961323       13.545206   8.613133e+04   \n",
       "9998          62917   1335.092264      111.257689   1.048617e+04   \n",
       "\n",
       "      Flow IAT Max  Fwd IAT Mean    Fwd IAT Std  Fwd IAT Max  Fwd IAT Min  \\\n",
       "0            468.0         253.5     303.348809        468.0         39.0   \n",
       "1           4000.0           0.0       0.000000          0.0          0.0   \n",
       "3         452020.0           0.0       0.000000          0.0          0.0   \n",
       "4         693839.0       25282.0   35732.934080      50549.0         15.0   \n",
       "6         686258.0      289588.0  308874.238066     908139.0        182.0   \n",
       "...            ...           ...            ...          ...          ...   \n",
       "9994          11.0          11.0       0.000000         11.0         11.0   \n",
       "9995       91767.0           0.0       0.000000          0.0          0.0   \n",
       "9996    11025887.0    11025887.0       0.000000   11025887.0   11025887.0   \n",
       "9997      279265.0      116479.0  164526.777419     232817.0        141.0   \n",
       "9998       47876.0       28382.5   27781.518326      48027.0       8738.0   \n",
       "\n",
       "        Bwd IAT Std  ...  DestPort_64336  DestPort_64939  DestPort_64974  \\\n",
       "0          0.000000  ...               0               0               0   \n",
       "1          0.000000  ...               0               0               0   \n",
       "3          0.000000  ...               0               0               0   \n",
       "4     277283.206687  ...               0               0               0   \n",
       "6     240069.297287  ...               0               0               0   \n",
       "...             ...  ...             ...             ...             ...   \n",
       "9994       0.000000  ...               0               0               0   \n",
       "9995       0.000000  ...               0               0               0   \n",
       "9996       0.000000  ...               0               0               0   \n",
       "9997  160135.893604  ...               0               0               0   \n",
       "9998   31056.615350  ...               0               0               0   \n",
       "\n",
       "      DestPort_65500  DestPort_65520  DestPort_65534  Protocol_0  Protocol_6  \\\n",
       "0                  0               0               0           0           1   \n",
       "1                  0               0               0           0           0   \n",
       "3                  0               0               0           0           0   \n",
       "4                  0               0               0           0           1   \n",
       "6                  0               0               0           0           1   \n",
       "...              ...             ...             ...         ...         ...   \n",
       "9994               0               0               0           0           1   \n",
       "9995               0               0               0           0           1   \n",
       "9996               0               0               0           0           0   \n",
       "9997               0               0               0           0           1   \n",
       "9998               0               0               0           0           1   \n",
       "\n",
       "      Protocol_17  BotNet_Label  \n",
       "0               0        Normal  \n",
       "1               1    Weasel Bot  \n",
       "3               1        Normal  \n",
       "4               0        Normal  \n",
       "6               0        Normal  \n",
       "...           ...           ...  \n",
       "9994            0         Murlo  \n",
       "9995            0    Weasel Bot  \n",
       "9996            1        Normal  \n",
       "9997            0        Normal  \n",
       "9998            0        Normal  \n",
       "\n",
       "[4999 rows x 7686 columns]"
      ]
     },
     "execution_count": 20,
     "metadata": {},
     "output_type": "execute_result"
    }
   ],
   "source": [
    "data"
   ]
  },
  {
   "cell_type": "code",
   "execution_count": 21,
   "metadata": {},
   "outputs": [
    {
     "data": {
      "text/plain": [
       "(4999, 7686)"
      ]
     },
     "execution_count": 21,
     "metadata": {},
     "output_type": "execute_result"
    }
   ],
   "source": [
    "data.shape"
   ]
  },
  {
   "cell_type": "code",
   "execution_count": 22,
   "metadata": {},
   "outputs": [],
   "source": [
    "#save subdatasets\n",
    "#labels = list(data['BotNet_Label'].unique())\n",
    "#for label in labels:\n",
    "#    tlbl = label.replace(\" \", \"_\")#if label has space replace it with _\n",
    "#    tdata = data[data['BotNet_Label']==label]\n",
    "#    tdata.to_csv('Bot_'+tlbl+'.csv',index=False)\n",
    "#    print('Done: ',label,len(tdata))\n",
    "\n",
    "#print('all done', flush=True)"
   ]
  },
  {
   "cell_type": "code",
   "execution_count": 23,
   "metadata": {},
   "outputs": [
    {
     "data": {
      "text/plain": [
       "Normal         2125\n",
       "Weasel Bot     1508\n",
       "Virut           615\n",
       "Neris           305\n",
       "Murlo           259\n",
       "Menti            82\n",
       "IRC              75\n",
       "Zero access      18\n",
       "TBot             10\n",
       "Zeus              2\n",
       "Name: BotNet_Label, dtype: int64"
      ]
     },
     "execution_count": 23,
     "metadata": {},
     "output_type": "execute_result"
    }
   ],
   "source": [
    "data['BotNet_Label'].value_counts()"
   ]
  },
  {
   "cell_type": "code",
   "execution_count": 24,
   "metadata": {},
   "outputs": [
    {
     "data": {
      "text/plain": [
       "Normal         2125\n",
       "Weasel Bot     1508\n",
       "Virut           615\n",
       "Neris           305\n",
       "Murlo           259\n",
       "Menti            82\n",
       "IRC              75\n",
       "Zero access      18\n",
       "Name: BotNet_Label, dtype: int64"
      ]
     },
     "execution_count": 24,
     "metadata": {},
     "output_type": "execute_result"
    }
   ],
   "source": [
    "# Explore BotNet_Label values\n",
    "s = data['BotNet_Label'].value_counts()\n",
    "\n",
    "# get a list of labels where the number of instances is > 10\n",
    "labels = list(s[s > 10].index)\n",
    "\n",
    "# remove BotNets where the number of instances is < 10\n",
    "data = data[data['BotNet_Label'].isin(labels)]\n",
    "data['BotNet_Label'].value_counts()"
   ]
  },
  {
   "cell_type": "code",
   "execution_count": 25,
   "metadata": {},
   "outputs": [
    {
     "data": {
      "text/plain": [
       "Normal          4853\n",
       "Weasel Bot      2158\n",
       "Virut           1405\n",
       "Neris            742\n",
       "Murlo            400\n",
       "Menti            163\n",
       "IRC              136\n",
       "Zero access       71\n",
       "TBot              22\n",
       "Black hole 2      14\n",
       "Zeus              14\n",
       "Name: BotNet_Label, dtype: int64"
      ]
     },
     "execution_count": 25,
     "metadata": {},
     "output_type": "execute_result"
    }
   ],
   "source": [
    "Y.value_counts()"
   ]
  },
  {
   "cell_type": "markdown",
   "metadata": {},
   "source": [
    "### SMOTE (Synthetic Minority Oversampling Technique) – Oversampling\n",
    "\n",
    "* It aims to balance class distribution by randomly increasing minority class examples by replicating them.\n",
    "* SMOTE synthesises new minority instances between existing minority instances. \n",
    "* It generates the virtual training records by linear interpolation for the minority class.\n",
    "* These synthetic training records are generated by randomly selecting one or more of the k-nearest neighbors for each example in the minority class. "
   ]
  },
  {
   "cell_type": "code",
   "execution_count": 26,
   "metadata": {},
   "outputs": [],
   "source": [
    "#!pip install -U imbalanced-learn"
   ]
  },
  {
   "cell_type": "code",
   "execution_count": 27,
   "metadata": {},
   "outputs": [
    {
     "name": "stdout",
     "output_type": "stream",
     "text": [
      "Wall time: 7.4 s\n"
     ]
    }
   ],
   "source": [
    "%%time\n",
    "from imblearn.over_sampling import SMOTE \n",
    "sm = SMOTE(random_state = 2) \n",
    "# separate features from class variable\n",
    "y = data['BotNet_Label']\n",
    "X = data.drop('BotNet_Label', axis=1)\n",
    "\n",
    "X, y = sm.fit_resample(X, y)"
   ]
  },
  {
   "cell_type": "code",
   "execution_count": 28,
   "metadata": {},
   "outputs": [
    {
     "data": {
      "text/plain": [
       "(17000,)"
      ]
     },
     "execution_count": 28,
     "metadata": {},
     "output_type": "execute_result"
    }
   ],
   "source": [
    "y.shape"
   ]
  },
  {
   "cell_type": "code",
   "execution_count": 29,
   "metadata": {},
   "outputs": [
    {
     "data": {
      "text/plain": [
       "pandas.core.frame.DataFrame"
      ]
     },
     "execution_count": 29,
     "metadata": {},
     "output_type": "execute_result"
    }
   ],
   "source": [
    "type(X)"
   ]
  },
  {
   "cell_type": "code",
   "execution_count": 30,
   "metadata": {},
   "outputs": [],
   "source": [
    "#y.value_counts()"
   ]
  },
  {
   "cell_type": "code",
   "execution_count": 31,
   "metadata": {},
   "outputs": [
    {
     "data": {
      "text/plain": [
       "8"
      ]
     },
     "execution_count": 31,
     "metadata": {},
     "output_type": "execute_result"
    }
   ],
   "source": [
    "targets = np.unique(y).tolist()\n",
    "len(targets)"
   ]
  },
  {
   "cell_type": "markdown",
   "metadata": {},
   "source": [
    "### Principal Component Analysis (PCA)"
   ]
  },
  {
   "cell_type": "code",
   "execution_count": 32,
   "metadata": {},
   "outputs": [],
   "source": [
    "# Apply StandardScaler\n",
    "from sklearn.preprocessing import StandardScaler\n",
    "X = StandardScaler().fit_transform(X)"
   ]
  },
  {
   "cell_type": "code",
   "execution_count": 33,
   "metadata": {},
   "outputs": [],
   "source": [
    "# Apply PCA from sklearn\n",
    "from sklearn.decomposition import PCA\n",
    "pca = PCA(n_components=2)\n",
    "principal_components = pca.fit_transform(X)\n",
    "# create a datarame that contains the PCA components\n",
    "principal_df = pd.DataFrame(data = principal_components, columns=['principal component 1','principal component 2'])"
   ]
  },
  {
   "cell_type": "code",
   "execution_count": 34,
   "metadata": {},
   "outputs": [],
   "source": [
    "# add the class label to the PCA components\n",
    "principal_df['BotNet_Label'] = y"
   ]
  },
  {
   "cell_type": "code",
   "execution_count": 35,
   "metadata": {},
   "outputs": [
    {
     "data": {
      "text/html": [
       "<div>\n",
       "<style scoped>\n",
       "    .dataframe tbody tr th:only-of-type {\n",
       "        vertical-align: middle;\n",
       "    }\n",
       "\n",
       "    .dataframe tbody tr th {\n",
       "        vertical-align: top;\n",
       "    }\n",
       "\n",
       "    .dataframe thead th {\n",
       "        text-align: right;\n",
       "    }\n",
       "</style>\n",
       "<table border=\"1\" class=\"dataframe\">\n",
       "  <thead>\n",
       "    <tr style=\"text-align: right;\">\n",
       "      <th></th>\n",
       "      <th>principal component 1</th>\n",
       "      <th>principal component 2</th>\n",
       "      <th>BotNet_Label</th>\n",
       "    </tr>\n",
       "  </thead>\n",
       "  <tbody>\n",
       "    <tr>\n",
       "      <th>0</th>\n",
       "      <td>-0.588624</td>\n",
       "      <td>1.353685</td>\n",
       "      <td>Normal</td>\n",
       "    </tr>\n",
       "    <tr>\n",
       "      <th>1</th>\n",
       "      <td>-1.145618</td>\n",
       "      <td>-2.397987</td>\n",
       "      <td>Weasel Bot</td>\n",
       "    </tr>\n",
       "    <tr>\n",
       "      <th>2</th>\n",
       "      <td>-1.074104</td>\n",
       "      <td>-2.337165</td>\n",
       "      <td>Normal</td>\n",
       "    </tr>\n",
       "    <tr>\n",
       "      <th>3</th>\n",
       "      <td>-0.621214</td>\n",
       "      <td>0.998708</td>\n",
       "      <td>Normal</td>\n",
       "    </tr>\n",
       "    <tr>\n",
       "      <th>4</th>\n",
       "      <td>-0.495510</td>\n",
       "      <td>0.972782</td>\n",
       "      <td>Normal</td>\n",
       "    </tr>\n",
       "  </tbody>\n",
       "</table>\n",
       "</div>"
      ],
      "text/plain": [
       "   principal component 1  principal component 2 BotNet_Label\n",
       "0              -0.588624               1.353685       Normal\n",
       "1              -1.145618              -2.397987   Weasel Bot\n",
       "2              -1.074104              -2.337165       Normal\n",
       "3              -0.621214               0.998708       Normal\n",
       "4              -0.495510               0.972782       Normal"
      ]
     },
     "execution_count": 35,
     "metadata": {},
     "output_type": "execute_result"
    }
   ],
   "source": [
    "principal_df.head()"
   ]
  },
  {
   "cell_type": "code",
   "execution_count": 36,
   "metadata": {},
   "outputs": [
    {
     "data": {
      "text/plain": [
       "Neris          2125\n",
       "IRC            2125\n",
       "Virut          2125\n",
       "Normal         2125\n",
       "Murlo          2125\n",
       "Zero access    2125\n",
       "Menti          2125\n",
       "Weasel Bot     2125\n",
       "Name: BotNet_Label, dtype: int64"
      ]
     },
     "execution_count": 36,
     "metadata": {},
     "output_type": "execute_result"
    }
   ],
   "source": [
    "principal_df['BotNet_Label'].value_counts()"
   ]
  },
  {
   "cell_type": "code",
   "execution_count": 37,
   "metadata": {
    "scrolled": false
   },
   "outputs": [
    {
     "data": {
      "image/png": "[encoded data removed]",
      "text/plain": [
       "<Figure size 576x576 with 1 Axes>"
      ]
     },
     "metadata": {
      "needs_background": "light"
     },
     "output_type": "display_data"
    }
   ],
   "source": [
    "from itertools import cycle\n",
    "\n",
    "fig = plt.figure(figsize = (8,8))\n",
    "ax = fig.add_subplot(1,1,1) \n",
    "ax.set_xlabel('Principal Component 1', fontsize = 15)\n",
    "ax.set_ylabel('Principal Component 2', fontsize = 15)\n",
    "ax.set_title('2 component PCA', fontsize = 20)\n",
    "#targets = ['Neris', 'Normal', 'TBot', 'RBot']\n",
    "#colors = ['r', 'g', 'b','c']\n",
    "\n",
    "\n",
    "cycol = cycle('bgrcmk')\n",
    "\n",
    "    \n",
    "for target in targets:\n",
    "    indicesToKeep = principal_df['BotNet_Label'] == target\n",
    "    ax.scatter(principal_df.loc[indicesToKeep, 'principal component 1']\n",
    "               , principal_df.loc[indicesToKeep, 'principal component 2']\n",
    "               , c = next(cycol)\n",
    "               , s = 50)\n",
    "ax.legend(targets)\n",
    "ax.grid()"
   ]
  },
  {
   "cell_type": "code",
   "execution_count": 38,
   "metadata": {},
   "outputs": [
    {
     "data": {
      "text/plain": [
       "['IRC',\n",
       " 'Menti',\n",
       " 'Murlo',\n",
       " 'Neris',\n",
       " 'Normal',\n",
       " 'Virut',\n",
       " 'Weasel Bot',\n",
       " 'Zero access']"
      ]
     },
     "execution_count": 38,
     "metadata": {},
     "output_type": "execute_result"
    }
   ],
   "source": [
    "targets"
   ]
  },
  {
   "cell_type": "markdown",
   "metadata": {},
   "source": [
    "### Use your Favourite Classifier to Make Predictions"
   ]
  },
  {
   "cell_type": "code",
   "execution_count": 39,
   "metadata": {},
   "outputs": [
    {
     "data": {
      "text/plain": [
       "GaussianNB()"
      ]
     },
     "execution_count": 39,
     "metadata": {},
     "output_type": "execute_result"
    }
   ],
   "source": [
    "from sklearn.model_selection import train_test_split\n",
    "from sklearn.naive_bayes import GaussianNB\n",
    "\n",
    "X_train, X_test, y_train, y_test = train_test_split(X, y, test_size=0.5, random_state=0)\n",
    "gnb = GaussianNB()\n",
    "gnb.fit(X_train, y_train)"
   ]
  },
  {
   "cell_type": "code",
   "execution_count": 40,
   "metadata": {},
   "outputs": [
    {
     "data": {
      "image/png": "[encoded data removed]",
      "text/plain": [
       "<Figure size 1080x720 with 2 Axes>"
      ]
     },
     "metadata": {
      "needs_background": "light"
     },
     "output_type": "display_data"
    },
    {
     "name": "stdout",
     "output_type": "stream",
     "text": [
      "Wall time: 6.72 s\n"
     ]
    }
   ],
   "source": [
    "%%time\n",
    "from sklearn.metrics import confusion_matrix\n",
    "import matplotlib.pyplot as plt\n",
    "import seaborn as sns\n",
    "\n",
    "y_pred = gnb.predict(X_test)\n",
    "conf_mat = confusion_matrix(y_test, y_pred)\n",
    "\n",
    "\n",
    "# Plot confusion_matrix\n",
    "fig, ax = plt.subplots(figsize=(15, 10))\n",
    "sns.heatmap(conf_mat, annot=True, cmap = \"Set3\", fmt =\"d\",\n",
    "xticklabels=targets, yticklabels=targets)\n",
    "plt.ylabel('Actual')\n",
    "plt.xlabel('Predicted')\n",
    "plt.show()\n"
   ]
  },
  {
   "cell_type": "code",
   "execution_count": 41,
   "metadata": {},
   "outputs": [
    {
     "name": "stdout",
     "output_type": "stream",
     "text": [
      "Accuracy:  0.6289411764705882\n"
     ]
    }
   ],
   "source": [
    "from sklearn.metrics import accuracy_score\n",
    "\n",
    "print(\"Accuracy: \" , (accuracy_score(y_test, y_pred)))"
   ]
  },
  {
   "cell_type": "markdown",
   "metadata": {},
   "source": [
    "# Well Done!"
   ]
  },
  {
   "cell_type": "code",
   "execution_count": null,
   "metadata": {},
   "outputs": [],
   "source": []
  }
 ],
 "metadata": {
  "kernelspec": {
   "display_name": "Python 3",
   "language": "python",
   "name": "python3"
  },
  "language_info": {
   "codemirror_mode": {
    "name": "ipython",
    "version": 3
   },
   "file_extension": ".py",
   "mimetype": "text/x-python",
   "name": "python",
   "nbconvert_exporter": "python",
   "pygments_lexer": "ipython3",
   "version": "3.8.5"
  }
 },
 "nbformat": 4,
 "nbformat_minor": 2
}
